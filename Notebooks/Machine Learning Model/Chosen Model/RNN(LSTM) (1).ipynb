{
  "nbformat": 4,
  "nbformat_minor": 0,
  "metadata": {
    "colab": {
      "name": "RNN(LSTM).ipynb",
      "provenance": []
    },
    "kernelspec": {
      "name": "python3",
      "display_name": "Python 3"
    },
    "language_info": {
      "name": "python"
    }
  },
  "cells": [
    {
      "cell_type": "markdown",
      "metadata": {
        "id": "7PUtj63ifkC0"
      },
      "source": [
        "# RNN(LSTM)\n",
        "\n",
        "Here we will forecast the future of inflation using RNN(LSTM)."
      ]
    },
    {
      "cell_type": "markdown",
      "metadata": {
        "id": "Q7uSaEbuf1oK"
      },
      "source": [
        "### 1. Preparing the datasets & Importing neccessary libraries"
      ]
    },
    {
      "cell_type": "code",
      "metadata": {
        "id": "4p24a9MLspWU"
      },
      "source": [
        "import pandas as pd\n",
        "import numpy as np\n",
        "import matplotlib.pyplot as plt\n",
        "import math "
      ],
      "execution_count": null,
      "outputs": []
    },
    {
      "cell_type": "code",
      "metadata": {
        "colab": {
          "base_uri": "https://localhost:8080/"
        },
        "id": "EWFbMsJotYrl",
        "outputId": "08e5e2b6-12fb-4f0e-980b-88c5b8acbae4"
      },
      "source": [
        "!git clone https://github.com/farelarden/Dicoding-Capstone-ML.git"
      ],
      "execution_count": null,
      "outputs": [
        {
          "output_type": "stream",
          "name": "stdout",
          "text": [
            "fatal: destination path 'Dicoding-Capstone-ML' already exists and is not an empty directory.\n"
          ]
        }
      ]
    },
    {
      "cell_type": "code",
      "metadata": {
        "id": "oBwqAtDEfjfW"
      },
      "source": [
        "df_Makanan = pd.read_csv('/content/Dicoding-Capstone-ML/Dataset/Fix Dataset/fix 02 - Makanan.csv',index_col='BULAN')\n",
        "df_Minuman = pd.read_csv('/content/Dicoding-Capstone-ML/Dataset/Fix Dataset/fix 02 - Minuman.csv',index_col='BULAN')\n",
        "df_Rumah = pd.read_csv('/content/Dicoding-Capstone-ML/Dataset/Fix Dataset/fix 03 - Rumah.csv',index_col='BULAN')\n",
        "df_Sandang = pd.read_csv('/content/Dicoding-Capstone-ML/Dataset/Fix Dataset/fix 04 - Sandang.csv',index_col='BULAN')\n",
        "df_Transportasi = pd.read_csv('/content/Dicoding-Capstone-ML/Dataset/Fix Dataset/fix 07 - Transportasi.csv',index_col='BULAN')"
      ],
      "execution_count": null,
      "outputs": []
    },
    {
      "cell_type": "markdown",
      "metadata": {
        "id": "-P7rDOcM-gom"
      },
      "source": [
        "## 2. Data Preprocessing"
      ]
    },
    {
      "cell_type": "code",
      "metadata": {
        "id": "sTSsPUXXXIcz"
      },
      "source": [
        "df_Makanan.index.freq='MS'"
      ],
      "execution_count": null,
      "outputs": []
    },
    {
      "cell_type": "code",
      "metadata": {
        "id": "HaKMbL3ftcs6"
      },
      "source": [
        "df_Makanan = df_Makanan[['KOTA MEULABOH']]"
      ],
      "execution_count": null,
      "outputs": []
    },
    {
      "cell_type": "code",
      "metadata": {
        "colab": {
          "base_uri": "https://localhost:8080/",
          "height": 238
        },
        "id": "XQbV-QMZf_OX",
        "outputId": "d1526c13-5587-4360-8d11-ff9e11050b86"
      },
      "source": [
        "df_Makanan.head()"
      ],
      "execution_count": null,
      "outputs": [
        {
          "output_type": "execute_result",
          "data": {
            "text/html": [
              "<div>\n",
              "<style scoped>\n",
              "    .dataframe tbody tr th:only-of-type {\n",
              "        vertical-align: middle;\n",
              "    }\n",
              "\n",
              "    .dataframe tbody tr th {\n",
              "        vertical-align: top;\n",
              "    }\n",
              "\n",
              "    .dataframe thead th {\n",
              "        text-align: right;\n",
              "    }\n",
              "</style>\n",
              "<table border=\"1\" class=\"dataframe\">\n",
              "  <thead>\n",
              "    <tr style=\"text-align: right;\">\n",
              "      <th></th>\n",
              "      <th>KOTA MEULABOH</th>\n",
              "    </tr>\n",
              "    <tr>\n",
              "      <th>BULAN</th>\n",
              "      <th></th>\n",
              "    </tr>\n",
              "  </thead>\n",
              "  <tbody>\n",
              "    <tr>\n",
              "      <th>2014-01-01</th>\n",
              "      <td>1.10</td>\n",
              "    </tr>\n",
              "    <tr>\n",
              "      <th>2014-02-01</th>\n",
              "      <td>0.88</td>\n",
              "    </tr>\n",
              "    <tr>\n",
              "      <th>2014-03-01</th>\n",
              "      <td>1.42</td>\n",
              "    </tr>\n",
              "    <tr>\n",
              "      <th>2014-04-01</th>\n",
              "      <td>0.17</td>\n",
              "    </tr>\n",
              "    <tr>\n",
              "      <th>2014-05-01</th>\n",
              "      <td>-0.01</td>\n",
              "    </tr>\n",
              "  </tbody>\n",
              "</table>\n",
              "</div>"
            ],
            "text/plain": [
              "            KOTA MEULABOH\n",
              "BULAN                    \n",
              "2014-01-01           1.10\n",
              "2014-02-01           0.88\n",
              "2014-03-01           1.42\n",
              "2014-04-01           0.17\n",
              "2014-05-01          -0.01"
            ]
          },
          "metadata": {},
          "execution_count": 457
        }
      ]
    },
    {
      "cell_type": "code",
      "metadata": {
        "colab": {
          "base_uri": "https://localhost:8080/"
        },
        "id": "G6k8VByIgVpJ",
        "outputId": "7d3d6faa-1532-4556-d52a-0290ff26425a"
      },
      "source": [
        "df_Makanan.shape"
      ],
      "execution_count": null,
      "outputs": [
        {
          "output_type": "execute_result",
          "data": {
            "text/plain": [
              "(94, 1)"
            ]
          },
          "metadata": {},
          "execution_count": 458
        }
      ]
    },
    {
      "cell_type": "code",
      "metadata": {
        "colab": {
          "base_uri": "https://localhost:8080/",
          "height": 406
        },
        "id": "q8QMqewwf8NU",
        "outputId": "3fef5909-fe31-4a04-c0c2-1451de33e8db"
      },
      "source": [
        "df_Makanan.plot(figsize=(12,6))"
      ],
      "execution_count": null,
      "outputs": [
        {
          "output_type": "execute_result",
          "data": {
            "text/plain": [
              "<matplotlib.axes._subplots.AxesSubplot at 0x7facc3fae190>"
            ]
          },
          "metadata": {},
          "execution_count": 459
        },
        {
          "output_type": "display_data",
          "data": {
            "image/png": "[encoded data removed]",
            "text/plain": [
              "<Figure size 864x432 with 1 Axes>"
            ]
          },
          "metadata": {
            "needs_background": "light"
          }
        }
      ]
    },
    {
      "cell_type": "code",
      "metadata": {
        "id": "qZt9KaTJYxZu"
      },
      "source": [
        "from statsmodels.tsa.seasonal import seasonal_decompose"
      ],
      "execution_count": null,
      "outputs": []
    },
    {
      "cell_type": "markdown",
      "metadata": {
        "id": "UTcqycjv-yfJ"
      },
      "source": [
        "## 3. Train and Split Data"
      ]
    },
    {
      "cell_type": "code",
      "metadata": {
        "id": "s-Y2ew_5gGDa"
      },
      "source": [
        "train = df_Makanan.iloc[:math.ceil(df_Makanan.shape[0]*0.8)]\n",
        "test = df_Makanan.iloc[math.ceil(df_Makanan.shape[0]*0.8):]"
      ],
      "execution_count": null,
      "outputs": []
    },
    {
      "cell_type": "code",
      "metadata": {
        "colab": {
          "base_uri": "https://localhost:8080/",
          "height": 455
        },
        "id": "rAQ3lm8zicWv",
        "outputId": "efd2d8fc-0760-4b5c-e0f9-72982ffa67f0"
      },
      "source": [
        "train"
      ],
      "execution_count": null,
      "outputs": [
        {
          "output_type": "execute_result",
          "data": {
            "text/html": [
              "<div>\n",
              "<style scoped>\n",
              "    .dataframe tbody tr th:only-of-type {\n",
              "        vertical-align: middle;\n",
              "    }\n",
              "\n",
              "    .dataframe tbody tr th {\n",
              "        vertical-align: top;\n",
              "    }\n",
              "\n",
              "    .dataframe thead th {\n",
              "        text-align: right;\n",
              "    }\n",
              "</style>\n",
              "<table border=\"1\" class=\"dataframe\">\n",
              "  <thead>\n",
              "    <tr style=\"text-align: right;\">\n",
              "      <th></th>\n",
              "      <th>KOTA MEULABOH</th>\n",
              "    </tr>\n",
              "    <tr>\n",
              "      <th>BULAN</th>\n",
              "      <th></th>\n",
              "    </tr>\n",
              "  </thead>\n",
              "  <tbody>\n",
              "    <tr>\n",
              "      <th>2014-01-01</th>\n",
              "      <td>1.10</td>\n",
              "    </tr>\n",
              "    <tr>\n",
              "      <th>2014-02-01</th>\n",
              "      <td>0.88</td>\n",
              "    </tr>\n",
              "    <tr>\n",
              "      <th>2014-03-01</th>\n",
              "      <td>1.42</td>\n",
              "    </tr>\n",
              "    <tr>\n",
              "      <th>2014-04-01</th>\n",
              "      <td>0.17</td>\n",
              "    </tr>\n",
              "    <tr>\n",
              "      <th>2014-05-01</th>\n",
              "      <td>-0.01</td>\n",
              "    </tr>\n",
              "    <tr>\n",
              "      <th>...</th>\n",
              "      <td>...</td>\n",
              "    </tr>\n",
              "    <tr>\n",
              "      <th>2019-12-01</th>\n",
              "      <td>-0.02</td>\n",
              "    </tr>\n",
              "    <tr>\n",
              "      <th>2020-01-01</th>\n",
              "      <td>3.77</td>\n",
              "    </tr>\n",
              "    <tr>\n",
              "      <th>2020-02-01</th>\n",
              "      <td>-0.81</td>\n",
              "    </tr>\n",
              "    <tr>\n",
              "      <th>2020-03-01</th>\n",
              "      <td>1.41</td>\n",
              "    </tr>\n",
              "    <tr>\n",
              "      <th>2020-04-01</th>\n",
              "      <td>-1.75</td>\n",
              "    </tr>\n",
              "  </tbody>\n",
              "</table>\n",
              "<p>76 rows × 1 columns</p>\n",
              "</div>"
            ],
            "text/plain": [
              "            KOTA MEULABOH\n",
              "BULAN                    \n",
              "2014-01-01           1.10\n",
              "2014-02-01           0.88\n",
              "2014-03-01           1.42\n",
              "2014-04-01           0.17\n",
              "2014-05-01          -0.01\n",
              "...                   ...\n",
              "2019-12-01          -0.02\n",
              "2020-01-01           3.77\n",
              "2020-02-01          -0.81\n",
              "2020-03-01           1.41\n",
              "2020-04-01          -1.75\n",
              "\n",
              "[76 rows x 1 columns]"
            ]
          },
          "metadata": {},
          "execution_count": 462
        }
      ]
    },
    {
      "cell_type": "code",
      "metadata": {
        "colab": {
          "base_uri": "https://localhost:8080/",
          "height": 645
        },
        "id": "mC_b_YblT1iA",
        "outputId": "f183c0cc-6fb7-42e6-b5d3-0abf6614a2f0"
      },
      "source": [
        "test"
      ],
      "execution_count": null,
      "outputs": [
        {
          "output_type": "execute_result",
          "data": {
            "text/html": [
              "<div>\n",
              "<style scoped>\n",
              "    .dataframe tbody tr th:only-of-type {\n",
              "        vertical-align: middle;\n",
              "    }\n",
              "\n",
              "    .dataframe tbody tr th {\n",
              "        vertical-align: top;\n",
              "    }\n",
              "\n",
              "    .dataframe thead th {\n",
              "        text-align: right;\n",
              "    }\n",
              "</style>\n",
              "<table border=\"1\" class=\"dataframe\">\n",
              "  <thead>\n",
              "    <tr style=\"text-align: right;\">\n",
              "      <th></th>\n",
              "      <th>KOTA MEULABOH</th>\n",
              "    </tr>\n",
              "    <tr>\n",
              "      <th>BULAN</th>\n",
              "      <th></th>\n",
              "    </tr>\n",
              "  </thead>\n",
              "  <tbody>\n",
              "    <tr>\n",
              "      <th>2020-05-01</th>\n",
              "      <td>1.59</td>\n",
              "    </tr>\n",
              "    <tr>\n",
              "      <th>2020-06-01</th>\n",
              "      <td>-0.28</td>\n",
              "    </tr>\n",
              "    <tr>\n",
              "      <th>2020-07-01</th>\n",
              "      <td>-1.24</td>\n",
              "    </tr>\n",
              "    <tr>\n",
              "      <th>2020-08-01</th>\n",
              "      <td>1.59</td>\n",
              "    </tr>\n",
              "    <tr>\n",
              "      <th>2020-09-01</th>\n",
              "      <td>0.26</td>\n",
              "    </tr>\n",
              "    <tr>\n",
              "      <th>2020-10-01</th>\n",
              "      <td>1.20</td>\n",
              "    </tr>\n",
              "    <tr>\n",
              "      <th>2020-11-01</th>\n",
              "      <td>0.16</td>\n",
              "    </tr>\n",
              "    <tr>\n",
              "      <th>2020-12-01</th>\n",
              "      <td>3.17</td>\n",
              "    </tr>\n",
              "    <tr>\n",
              "      <th>2021-01-01</th>\n",
              "      <td>1.45</td>\n",
              "    </tr>\n",
              "    <tr>\n",
              "      <th>2021-02-01</th>\n",
              "      <td>-2.78</td>\n",
              "    </tr>\n",
              "    <tr>\n",
              "      <th>2021-03-01</th>\n",
              "      <td>-1.73</td>\n",
              "    </tr>\n",
              "    <tr>\n",
              "      <th>2021-04-01</th>\n",
              "      <td>1.54</td>\n",
              "    </tr>\n",
              "    <tr>\n",
              "      <th>2021-05-01</th>\n",
              "      <td>1.82</td>\n",
              "    </tr>\n",
              "    <tr>\n",
              "      <th>2021-06-01</th>\n",
              "      <td>-0.68</td>\n",
              "    </tr>\n",
              "    <tr>\n",
              "      <th>2021-07-01</th>\n",
              "      <td>0.80</td>\n",
              "    </tr>\n",
              "    <tr>\n",
              "      <th>2021-08-01</th>\n",
              "      <td>-0.44</td>\n",
              "    </tr>\n",
              "    <tr>\n",
              "      <th>2021-09-01</th>\n",
              "      <td>-2.56</td>\n",
              "    </tr>\n",
              "    <tr>\n",
              "      <th>2021-10-01</th>\n",
              "      <td>2.06</td>\n",
              "    </tr>\n",
              "  </tbody>\n",
              "</table>\n",
              "</div>"
            ],
            "text/plain": [
              "            KOTA MEULABOH\n",
              "BULAN                    \n",
              "2020-05-01           1.59\n",
              "2020-06-01          -0.28\n",
              "2020-07-01          -1.24\n",
              "2020-08-01           1.59\n",
              "2020-09-01           0.26\n",
              "2020-10-01           1.20\n",
              "2020-11-01           0.16\n",
              "2020-12-01           3.17\n",
              "2021-01-01           1.45\n",
              "2021-02-01          -2.78\n",
              "2021-03-01          -1.73\n",
              "2021-04-01           1.54\n",
              "2021-05-01           1.82\n",
              "2021-06-01          -0.68\n",
              "2021-07-01           0.80\n",
              "2021-08-01          -0.44\n",
              "2021-09-01          -2.56\n",
              "2021-10-01           2.06"
            ]
          },
          "metadata": {},
          "execution_count": 463
        }
      ]
    },
    {
      "cell_type": "code",
      "metadata": {
        "id": "ZApCVc2KgIzu"
      },
      "source": [
        "from sklearn.preprocessing import MinMaxScaler\n",
        "scaler = MinMaxScaler()"
      ],
      "execution_count": null,
      "outputs": []
    },
    {
      "cell_type": "code",
      "metadata": {
        "id": "cHY9XU57iIzO"
      },
      "source": [
        "scaler.fit(train)\n",
        "scaled_train = scaler.transform(train)\n",
        "scaled_test = scaler.transform(test)"
      ],
      "execution_count": null,
      "outputs": []
    },
    {
      "cell_type": "code",
      "metadata": {
        "id": "KeS5AAKyiKFG"
      },
      "source": [
        "from keras.preprocessing.sequence import TimeseriesGenerator"
      ],
      "execution_count": null,
      "outputs": []
    },
    {
      "cell_type": "code",
      "metadata": {
        "colab": {
          "base_uri": "https://localhost:8080/"
        },
        "id": "wEPDDAxLYuP0",
        "outputId": "2e30d82a-673b-4a8f-81d7-5052aeb67878"
      },
      "source": [
        "scaled_train[:10]"
      ],
      "execution_count": null,
      "outputs": [
        {
          "output_type": "execute_result",
          "data": {
            "text/plain": [
              "array([[0.51630435],\n",
              "       [0.47644928],\n",
              "       [0.57427536],\n",
              "       [0.34782609],\n",
              "       [0.31521739],\n",
              "       [0.31702899],\n",
              "       [0.36775362],\n",
              "       [0.62318841],\n",
              "       [0.36231884],\n",
              "       [0.46195652]])"
            ]
          },
          "metadata": {},
          "execution_count": 467
        }
      ]
    },
    {
      "cell_type": "code",
      "metadata": {
        "id": "9NH53eWQYueC"
      },
      "source": [
        "# define generator\n",
        "n_input = 12\n",
        "n_features = 1\n",
        "generator = TimeseriesGenerator(scaled_train, scaled_train, length=n_input, batch_size=1)"
      ],
      "execution_count": null,
      "outputs": []
    },
    {
      "cell_type": "code",
      "metadata": {
        "colab": {
          "base_uri": "https://localhost:8080/"
        },
        "id": "WZmA9_cyZRW_",
        "outputId": "24a8a059-a3b0-4818-b437-96fe62c6020b"
      },
      "source": [
        "X,y = generator[0]\n",
        "print(f'Given the Array: \\n{X.flatten()}')\n",
        "print(f'Predict this y: \\n {y}')"
      ],
      "execution_count": null,
      "outputs": [
        {
          "output_type": "stream",
          "name": "stdout",
          "text": [
            "Given the Array: \n",
            "[0.51630435 0.47644928 0.57427536 0.34782609 0.31521739 0.31702899\n",
            " 0.36775362 0.62318841 0.36231884 0.46195652 0.31702899 0.31702899]\n",
            "Predict this y: \n",
            " [[0.42934783]]\n"
          ]
        }
      ]
    },
    {
      "cell_type": "code",
      "metadata": {
        "colab": {
          "base_uri": "https://localhost:8080/"
        },
        "id": "48yGEy9dZSUA",
        "outputId": "9d499a49-14ea-4fb6-b135-9bd25874882d"
      },
      "source": [
        "X.shape"
      ],
      "execution_count": null,
      "outputs": [
        {
          "output_type": "execute_result",
          "data": {
            "text/plain": [
              "(1, 12, 1)"
            ]
          },
          "metadata": {},
          "execution_count": 470
        }
      ]
    },
    {
      "cell_type": "code",
      "metadata": {
        "id": "uzr49a7NZTg-"
      },
      "source": [
        "generator = TimeseriesGenerator(scaled_train, scaled_train, length=n_input, batch_size=1)"
      ],
      "execution_count": null,
      "outputs": []
    },
    {
      "cell_type": "code",
      "metadata": {
        "id": "NdIXCASeZVKZ"
      },
      "source": [
        "from keras.models import Sequential\n",
        "from keras.layers import Dense\n",
        "from keras.layers import LSTM"
      ],
      "execution_count": null,
      "outputs": []
    },
    {
      "cell_type": "code",
      "metadata": {
        "id": "Xrxxz7kTZWA1"
      },
      "source": [
        "# # define model\n",
        "# model = Sequential()\n",
        "# model.add(LSTM(100, activation='relu', input_shape=(n_input, n_features)))\n",
        "# model.add(Dense(1))\n",
        "# model.compile(optimizer='adam', loss='mse')"
      ],
      "execution_count": null,
      "outputs": []
    },
    {
      "cell_type": "code",
      "metadata": {
        "id": "ZWJ3ryzMI-rQ"
      },
      "source": [
        "import keras"
      ],
      "execution_count": null,
      "outputs": []
    },
    {
      "cell_type": "code",
      "metadata": {
        "id": "ik9lz-qlF1jJ"
      },
      "source": [
        "model = keras.Sequential()\n",
        "model.add(\n",
        "  keras.layers.Bidirectional(\n",
        "    keras.layers.LSTM(\n",
        "        units=128,\n",
        "        input_shape=(n_input, n_features)\n",
        "    )\n",
        "  )\n",
        ")\n",
        "model.add(keras.layers.Dropout(rate=0.2))\n",
        "model.add(keras.layers.Dense(units=1))"
      ],
      "execution_count": null,
      "outputs": []
    },
    {
      "cell_type": "code",
      "metadata": {
        "id": "pe-vIeHGK1Zo"
      },
      "source": [
        "model.compile(loss='mean_squared_error',optimizer='adam')\n",
        "# history = modet. fit(\n",
        "#     X_train, y_train,\n",
        "#     epochs=30,\n",
        "#     batch_ size=32,\n",
        "#     validation_split=0.1,\n",
        "#     shuffle=False\n",
        "# )\n"
      ],
      "execution_count": null,
      "outputs": []
    },
    {
      "cell_type": "code",
      "metadata": {
        "colab": {
          "base_uri": "https://localhost:8080/"
        },
        "id": "JWoMeHK8ZW_o",
        "outputId": "f8735007-0281-454c-93c6-c97ba8c78e00"
      },
      "source": [
        "# fit model\n",
        "model.fit(generator,epochs=100)"
      ],
      "execution_count": null,
      "outputs": [
        {
          "output_type": "stream",
          "name": "stdout",
          "text": [
            "Epoch 1/100\n",
            "64/64 [==============================] - 5s 11ms/step - loss: 0.0272\n",
            "Epoch 2/100\n",
            "64/64 [==============================] - 1s 12ms/step - loss: 0.0194\n",
            "Epoch 3/100\n",
            "64/64 [==============================] - 1s 12ms/step - loss: 0.0206\n",
            "Epoch 4/100\n",
            "64/64 [==============================] - 1s 11ms/step - loss: 0.0206\n",
            "Epoch 5/100\n",
            "64/64 [==============================] - 1s 11ms/step - loss: 0.0192\n",
            "Epoch 6/100\n",
            "64/64 [==============================] - 1s 11ms/step - loss: 0.0198\n",
            "Epoch 7/100\n",
            "64/64 [==============================] - 1s 12ms/step - loss: 0.0187\n",
            "Epoch 8/100\n",
            "64/64 [==============================] - 1s 12ms/step - loss: 0.0197\n",
            "Epoch 9/100\n",
            "64/64 [==============================] - 1s 12ms/step - loss: 0.0191\n",
            "Epoch 10/100\n",
            "64/64 [==============================] - 1s 11ms/step - loss: 0.0190\n",
            "Epoch 11/100\n",
            "64/64 [==============================] - 1s 12ms/step - loss: 0.0180\n",
            "Epoch 12/100\n",
            "64/64 [==============================] - 1s 12ms/step - loss: 0.0183\n",
            "Epoch 13/100\n",
            "64/64 [==============================] - 1s 11ms/step - loss: 0.0182\n",
            "Epoch 14/100\n",
            "64/64 [==============================] - 1s 12ms/step - loss: 0.0204\n",
            "Epoch 15/100\n",
            "64/64 [==============================] - 1s 12ms/step - loss: 0.0168\n",
            "Epoch 16/100\n",
            "64/64 [==============================] - 1s 12ms/step - loss: 0.0174\n",
            "Epoch 17/100\n",
            "64/64 [==============================] - 1s 12ms/step - loss: 0.0182\n",
            "Epoch 18/100\n",
            "64/64 [==============================] - 1s 11ms/step - loss: 0.0189\n",
            "Epoch 19/100\n",
            "64/64 [==============================] - 1s 12ms/step - loss: 0.0204\n",
            "Epoch 20/100\n",
            "64/64 [==============================] - 1s 12ms/step - loss: 0.0185\n",
            "Epoch 21/100\n",
            "64/64 [==============================] - 1s 12ms/step - loss: 0.0180\n",
            "Epoch 22/100\n",
            "64/64 [==============================] - 1s 11ms/step - loss: 0.0190\n",
            "Epoch 23/100\n",
            "64/64 [==============================] - 1s 12ms/step - loss: 0.0178\n",
            "Epoch 24/100\n",
            "64/64 [==============================] - 1s 12ms/step - loss: 0.0174\n",
            "Epoch 25/100\n",
            "64/64 [==============================] - 1s 12ms/step - loss: 0.0196\n",
            "Epoch 26/100\n",
            "64/64 [==============================] - 1s 12ms/step - loss: 0.0169\n",
            "Epoch 27/100\n",
            "64/64 [==============================] - 1s 12ms/step - loss: 0.0181\n",
            "Epoch 28/100\n",
            "64/64 [==============================] - 1s 11ms/step - loss: 0.0189\n",
            "Epoch 29/100\n",
            "64/64 [==============================] - 1s 12ms/step - loss: 0.0181\n",
            "Epoch 30/100\n",
            "64/64 [==============================] - 1s 12ms/step - loss: 0.0175\n",
            "Epoch 31/100\n",
            "64/64 [==============================] - 1s 12ms/step - loss: 0.0180\n",
            "Epoch 32/100\n",
            "64/64 [==============================] - 1s 12ms/step - loss: 0.0184\n",
            "Epoch 33/100\n",
            "64/64 [==============================] - 1s 11ms/step - loss: 0.0186\n",
            "Epoch 34/100\n",
            "64/64 [==============================] - 1s 12ms/step - loss: 0.0167\n",
            "Epoch 35/100\n",
            "64/64 [==============================] - 1s 12ms/step - loss: 0.0166\n",
            "Epoch 36/100\n",
            "64/64 [==============================] - 1s 12ms/step - loss: 0.0165\n",
            "Epoch 37/100\n",
            "64/64 [==============================] - 1s 12ms/step - loss: 0.0176\n",
            "Epoch 38/100\n",
            "64/64 [==============================] - 1s 12ms/step - loss: 0.0168\n",
            "Epoch 39/100\n",
            "64/64 [==============================] - 1s 12ms/step - loss: 0.0172\n",
            "Epoch 40/100\n",
            "64/64 [==============================] - 1s 12ms/step - loss: 0.0161\n",
            "Epoch 41/100\n",
            "64/64 [==============================] - 1s 12ms/step - loss: 0.0181\n",
            "Epoch 42/100\n",
            "64/64 [==============================] - 1s 12ms/step - loss: 0.0199\n",
            "Epoch 43/100\n",
            "64/64 [==============================] - 1s 12ms/step - loss: 0.0177\n",
            "Epoch 44/100\n",
            "64/64 [==============================] - 1s 12ms/step - loss: 0.0173\n",
            "Epoch 45/100\n",
            "64/64 [==============================] - 1s 12ms/step - loss: 0.0170\n",
            "Epoch 46/100\n",
            "64/64 [==============================] - 1s 12ms/step - loss: 0.0166\n",
            "Epoch 47/100\n",
            "64/64 [==============================] - 1s 12ms/step - loss: 0.0187\n",
            "Epoch 48/100\n",
            "64/64 [==============================] - 1s 12ms/step - loss: 0.0165\n",
            "Epoch 49/100\n",
            "64/64 [==============================] - 1s 12ms/step - loss: 0.0174\n",
            "Epoch 50/100\n",
            "64/64 [==============================] - 1s 11ms/step - loss: 0.0179\n",
            "Epoch 51/100\n",
            "64/64 [==============================] - 1s 11ms/step - loss: 0.0169\n",
            "Epoch 52/100\n",
            "64/64 [==============================] - 1s 11ms/step - loss: 0.0187\n",
            "Epoch 53/100\n",
            "64/64 [==============================] - 1s 12ms/step - loss: 0.0161\n",
            "Epoch 54/100\n",
            "64/64 [==============================] - 1s 12ms/step - loss: 0.0182\n",
            "Epoch 55/100\n",
            "64/64 [==============================] - 1s 12ms/step - loss: 0.0181\n",
            "Epoch 56/100\n",
            "64/64 [==============================] - 1s 12ms/step - loss: 0.0162\n",
            "Epoch 57/100\n",
            "64/64 [==============================] - 1s 11ms/step - loss: 0.0173\n",
            "Epoch 58/100\n",
            "64/64 [==============================] - 1s 12ms/step - loss: 0.0164\n",
            "Epoch 59/100\n",
            "64/64 [==============================] - 1s 12ms/step - loss: 0.0176\n",
            "Epoch 60/100\n",
            "64/64 [==============================] - 1s 12ms/step - loss: 0.0165\n",
            "Epoch 61/100\n",
            "64/64 [==============================] - 1s 11ms/step - loss: 0.0169\n",
            "Epoch 62/100\n",
            "64/64 [==============================] - 1s 12ms/step - loss: 0.0162\n",
            "Epoch 63/100\n",
            "64/64 [==============================] - 1s 12ms/step - loss: 0.0163\n",
            "Epoch 64/100\n",
            "64/64 [==============================] - 1s 12ms/step - loss: 0.0169\n",
            "Epoch 65/100\n",
            "64/64 [==============================] - 1s 11ms/step - loss: 0.0161\n",
            "Epoch 66/100\n",
            "64/64 [==============================] - 1s 12ms/step - loss: 0.0166\n",
            "Epoch 67/100\n",
            "64/64 [==============================] - 1s 12ms/step - loss: 0.0177\n",
            "Epoch 68/100\n",
            "64/64 [==============================] - 1s 12ms/step - loss: 0.0161\n",
            "Epoch 69/100\n",
            "64/64 [==============================] - 1s 12ms/step - loss: 0.0164\n",
            "Epoch 70/100\n",
            "64/64 [==============================] - 1s 11ms/step - loss: 0.0162\n",
            "Epoch 71/100\n",
            "64/64 [==============================] - 1s 11ms/step - loss: 0.0172\n",
            "Epoch 72/100\n",
            "64/64 [==============================] - 1s 11ms/step - loss: 0.0168\n",
            "Epoch 73/100\n",
            "64/64 [==============================] - 1s 11ms/step - loss: 0.0164\n",
            "Epoch 74/100\n",
            "64/64 [==============================] - 1s 11ms/step - loss: 0.0169\n",
            "Epoch 75/100\n",
            "64/64 [==============================] - 1s 12ms/step - loss: 0.0180\n",
            "Epoch 76/100\n",
            "64/64 [==============================] - 1s 12ms/step - loss: 0.0162\n",
            "Epoch 77/100\n",
            "64/64 [==============================] - 1s 11ms/step - loss: 0.0160\n",
            "Epoch 78/100\n",
            "64/64 [==============================] - 1s 12ms/step - loss: 0.0166\n",
            "Epoch 79/100\n",
            "64/64 [==============================] - 1s 12ms/step - loss: 0.0167\n",
            "Epoch 80/100\n",
            "64/64 [==============================] - 1s 12ms/step - loss: 0.0153\n",
            "Epoch 81/100\n",
            "64/64 [==============================] - 1s 12ms/step - loss: 0.0162\n",
            "Epoch 82/100\n",
            "64/64 [==============================] - 1s 11ms/step - loss: 0.0161\n",
            "Epoch 83/100\n",
            "64/64 [==============================] - 1s 12ms/step - loss: 0.0165\n",
            "Epoch 84/100\n",
            "64/64 [==============================] - 1s 11ms/step - loss: 0.0151\n",
            "Epoch 85/100\n",
            "64/64 [==============================] - 1s 12ms/step - loss: 0.0177\n",
            "Epoch 86/100\n",
            "64/64 [==============================] - 1s 11ms/step - loss: 0.0160\n",
            "Epoch 87/100\n",
            "64/64 [==============================] - 1s 12ms/step - loss: 0.0161\n",
            "Epoch 88/100\n",
            "64/64 [==============================] - 1s 11ms/step - loss: 0.0152\n",
            "Epoch 89/100\n",
            "64/64 [==============================] - 1s 12ms/step - loss: 0.0152\n",
            "Epoch 90/100\n",
            "64/64 [==============================] - 1s 12ms/step - loss: 0.0158\n",
            "Epoch 91/100\n",
            "64/64 [==============================] - 1s 11ms/step - loss: 0.0161\n",
            "Epoch 92/100\n",
            "64/64 [==============================] - 1s 12ms/step - loss: 0.0153\n",
            "Epoch 93/100\n",
            "64/64 [==============================] - 1s 12ms/step - loss: 0.0164\n",
            "Epoch 94/100\n",
            "64/64 [==============================] - 1s 11ms/step - loss: 0.0148\n",
            "Epoch 95/100\n",
            "64/64 [==============================] - 1s 12ms/step - loss: 0.0157\n",
            "Epoch 96/100\n",
            "64/64 [==============================] - 1s 12ms/step - loss: 0.0154\n",
            "Epoch 97/100\n",
            "64/64 [==============================] - 1s 12ms/step - loss: 0.0132\n",
            "Epoch 98/100\n",
            "64/64 [==============================] - 1s 11ms/step - loss: 0.0167\n",
            "Epoch 99/100\n",
            "64/64 [==============================] - 1s 12ms/step - loss: 0.0135\n",
            "Epoch 100/100\n",
            "64/64 [==============================] - 1s 12ms/step - loss: 0.0155\n"
          ]
        },
        {
          "output_type": "execute_result",
          "data": {
            "text/plain": [
              "<keras.callbacks.History at 0x7facc3fd0650>"
            ]
          },
          "metadata": {},
          "execution_count": 477
        }
      ]
    },
    {
      "cell_type": "code",
      "metadata": {
        "colab": {
          "base_uri": "https://localhost:8080/",
          "height": 283
        },
        "id": "vMQpRc3dZYL7",
        "outputId": "52d35ed1-18af-44a7-a028-a9781d6339b1"
      },
      "source": [
        "loss_per_epoch = model.history.history['loss']\n",
        "plt.plot(range(len(loss_per_epoch)),loss_per_epoch)"
      ],
      "execution_count": null,
      "outputs": [
        {
          "output_type": "execute_result",
          "data": {
            "text/plain": [
              "[<matplotlib.lines.Line2D at 0x7facc40e6c90>]"
            ]
          },
          "metadata": {},
          "execution_count": 478
        },
        {
          "output_type": "display_data",
          "data": {
            "image/png": "[encoded data removed]",
            "text/plain": [
              "<Figure size 432x288 with 1 Axes>"
            ]
          },
          "metadata": {
            "needs_background": "light"
          }
        }
      ]
    },
    {
      "cell_type": "code",
      "metadata": {
        "colab": {
          "base_uri": "https://localhost:8080/"
        },
        "id": "cg6dBJL-ZZ6D",
        "outputId": "5352cccb-6e86-475f-baf7-b195d450cc0f"
      },
      "source": [
        "last_train_batch = scaled_train[-12:]\n",
        "last_train_batch = last_train_batch.reshape((1, n_input, n_features))\n",
        "model.predict(last_train_batch)"
      ],
      "execution_count": null,
      "outputs": [
        {
          "output_type": "execute_result",
          "data": {
            "text/plain": [
              "array([[0.6442505]], dtype=float32)"
            ]
          },
          "metadata": {},
          "execution_count": 479
        }
      ]
    },
    {
      "cell_type": "code",
      "metadata": {
        "colab": {
          "base_uri": "https://localhost:8080/"
        },
        "id": "lCVAGM43c2DE",
        "outputId": "15beabd3-30d9-4c27-e23f-981cdfe5f81f"
      },
      "source": [
        "scaled_test[0]"
      ],
      "execution_count": null,
      "outputs": [
        {
          "output_type": "execute_result",
          "data": {
            "text/plain": [
              "array([0.60507246])"
            ]
          },
          "metadata": {},
          "execution_count": 480
        }
      ]
    },
    {
      "cell_type": "code",
      "metadata": {
        "id": "Zi7mwaM2c2Va"
      },
      "source": [
        "test_predictions = []\n",
        "\n",
        "first_eval_batch = scaled_train[-n_input:]\n",
        "current_batch = first_eval_batch.reshape((1, n_input, n_features))\n",
        "\n",
        "for i in range(len(test)):\n",
        "    \n",
        "    # get the prediction value for the first batch\n",
        "    current_pred = model.predict(current_batch)[0]\n",
        "    \n",
        "    # append the prediction into the array\n",
        "    test_predictions.append(current_pred) \n",
        "    \n",
        "    # use the prediction to update the batch and remove the first value\n",
        "    current_batch = np.append(current_batch[:,1:,:],[[current_pred]],axis=1)"
      ],
      "execution_count": null,
      "outputs": []
    },
    {
      "cell_type": "code",
      "metadata": {
        "colab": {
          "base_uri": "https://localhost:8080/"
        },
        "id": "VtMd02izeDKz",
        "outputId": "631f4580-e80a-4aec-aa12-44810be8cddf"
      },
      "source": [
        "test['Prediction']=test_predictions"
      ],
      "execution_count": null,
      "outputs": [
        {
          "output_type": "stream",
          "name": "stderr",
          "text": [
            "/usr/local/lib/python3.7/dist-packages/ipykernel_launcher.py:1: SettingWithCopyWarning: \n",
            "A value is trying to be set on a copy of a slice from a DataFrame.\n",
            "Try using .loc[row_indexer,col_indexer] = value instead\n",
            "\n",
            "See the caveats in the documentation: https://pandas.pydata.org/pandas-docs/stable/user_guide/indexing.html#returning-a-view-versus-a-copy\n",
            "  \"\"\"Entry point for launching an IPython kernel.\n"
          ]
        }
      ]
    },
    {
      "cell_type": "code",
      "metadata": {
        "colab": {
          "base_uri": "https://localhost:8080/",
          "height": 238
        },
        "id": "8hyCFPUZd9dK",
        "outputId": "7d7a977f-a08e-4f62-c8cb-ae6a738dd0c3"
      },
      "source": [
        "test.head()"
      ],
      "execution_count": null,
      "outputs": [
        {
          "output_type": "execute_result",
          "data": {
            "text/html": [
              "<div>\n",
              "<style scoped>\n",
              "    .dataframe tbody tr th:only-of-type {\n",
              "        vertical-align: middle;\n",
              "    }\n",
              "\n",
              "    .dataframe tbody tr th {\n",
              "        vertical-align: top;\n",
              "    }\n",
              "\n",
              "    .dataframe thead th {\n",
              "        text-align: right;\n",
              "    }\n",
              "</style>\n",
              "<table border=\"1\" class=\"dataframe\">\n",
              "  <thead>\n",
              "    <tr style=\"text-align: right;\">\n",
              "      <th></th>\n",
              "      <th>KOTA MEULABOH</th>\n",
              "      <th>Prediction</th>\n",
              "    </tr>\n",
              "    <tr>\n",
              "      <th>BULAN</th>\n",
              "      <th></th>\n",
              "      <th></th>\n",
              "    </tr>\n",
              "  </thead>\n",
              "  <tbody>\n",
              "    <tr>\n",
              "      <th>2020-05-01</th>\n",
              "      <td>1.59</td>\n",
              "      <td>[0.6442505]</td>\n",
              "    </tr>\n",
              "    <tr>\n",
              "      <th>2020-06-01</th>\n",
              "      <td>-0.28</td>\n",
              "      <td>[0.31551492]</td>\n",
              "    </tr>\n",
              "    <tr>\n",
              "      <th>2020-07-01</th>\n",
              "      <td>-1.24</td>\n",
              "      <td>[0.48055714]</td>\n",
              "    </tr>\n",
              "    <tr>\n",
              "      <th>2020-08-01</th>\n",
              "      <td>1.59</td>\n",
              "      <td>[0.34310532]</td>\n",
              "    </tr>\n",
              "    <tr>\n",
              "      <th>2020-09-01</th>\n",
              "      <td>0.26</td>\n",
              "      <td>[0.32810163]</td>\n",
              "    </tr>\n",
              "  </tbody>\n",
              "</table>\n",
              "</div>"
            ],
            "text/plain": [
              "            KOTA MEULABOH    Prediction\n",
              "BULAN                                  \n",
              "2020-05-01           1.59   [0.6442505]\n",
              "2020-06-01          -0.28  [0.31551492]\n",
              "2020-07-01          -1.24  [0.48055714]\n",
              "2020-08-01           1.59  [0.34310532]\n",
              "2020-09-01           0.26  [0.32810163]"
            ]
          },
          "metadata": {},
          "execution_count": 483
        }
      ]
    },
    {
      "cell_type": "code",
      "metadata": {
        "colab": {
          "base_uri": "https://localhost:8080/"
        },
        "id": "a0eSY5kGd_vM",
        "outputId": "849c9f32-4197-4d86-bd56-2efe961f5210"
      },
      "source": [
        "test.dtypes"
      ],
      "execution_count": null,
      "outputs": [
        {
          "output_type": "execute_result",
          "data": {
            "text/plain": [
              "KOTA MEULABOH    float64\n",
              "Prediction        object\n",
              "dtype: object"
            ]
          },
          "metadata": {},
          "execution_count": 484
        }
      ]
    },
    {
      "cell_type": "code",
      "metadata": {
        "colab": {
          "base_uri": "https://localhost:8080/"
        },
        "id": "F4q5WGLfofi4",
        "outputId": "cd5cb603-d6b9-4442-b9b5-747bae8ca136"
      },
      "source": [
        "test['Prediction'] = test['Prediction'].astype(float, errors = 'raise')"
      ],
      "execution_count": null,
      "outputs": [
        {
          "output_type": "stream",
          "name": "stderr",
          "text": [
            "/usr/local/lib/python3.7/dist-packages/ipykernel_launcher.py:1: SettingWithCopyWarning: \n",
            "A value is trying to be set on a copy of a slice from a DataFrame.\n",
            "Try using .loc[row_indexer,col_indexer] = value instead\n",
            "\n",
            "See the caveats in the documentation: https://pandas.pydata.org/pandas-docs/stable/user_guide/indexing.html#returning-a-view-versus-a-copy\n",
            "  \"\"\"Entry point for launching an IPython kernel.\n"
          ]
        }
      ]
    },
    {
      "cell_type": "code",
      "metadata": {
        "colab": {
          "base_uri": "https://localhost:8080/"
        },
        "id": "pSomFkm7qKba",
        "outputId": "2e5b8d4f-4190-48f4-a189-c0196a0f375b"
      },
      "source": [
        "test.dtypes"
      ],
      "execution_count": null,
      "outputs": [
        {
          "output_type": "execute_result",
          "data": {
            "text/plain": [
              "KOTA MEULABOH    float64\n",
              "Prediction       float64\n",
              "dtype: object"
            ]
          },
          "metadata": {},
          "execution_count": 486
        }
      ]
    },
    {
      "cell_type": "code",
      "metadata": {
        "colab": {
          "base_uri": "https://localhost:8080/",
          "height": 238
        },
        "id": "BhCQHA1ZqNac",
        "outputId": "28c49331-8405-457a-98ed-8782f98cac42"
      },
      "source": [
        "test.tail()"
      ],
      "execution_count": null,
      "outputs": [
        {
          "output_type": "execute_result",
          "data": {
            "text/html": [
              "<div>\n",
              "<style scoped>\n",
              "    .dataframe tbody tr th:only-of-type {\n",
              "        vertical-align: middle;\n",
              "    }\n",
              "\n",
              "    .dataframe tbody tr th {\n",
              "        vertical-align: top;\n",
              "    }\n",
              "\n",
              "    .dataframe thead th {\n",
              "        text-align: right;\n",
              "    }\n",
              "</style>\n",
              "<table border=\"1\" class=\"dataframe\">\n",
              "  <thead>\n",
              "    <tr style=\"text-align: right;\">\n",
              "      <th></th>\n",
              "      <th>KOTA MEULABOH</th>\n",
              "      <th>Prediction</th>\n",
              "    </tr>\n",
              "    <tr>\n",
              "      <th>BULAN</th>\n",
              "      <th></th>\n",
              "      <th></th>\n",
              "    </tr>\n",
              "  </thead>\n",
              "  <tbody>\n",
              "    <tr>\n",
              "      <th>2021-06-01</th>\n",
              "      <td>-0.68</td>\n",
              "      <td>0.397746</td>\n",
              "    </tr>\n",
              "    <tr>\n",
              "      <th>2021-07-01</th>\n",
              "      <td>0.80</td>\n",
              "      <td>0.350624</td>\n",
              "    </tr>\n",
              "    <tr>\n",
              "      <th>2021-08-01</th>\n",
              "      <td>-0.44</td>\n",
              "      <td>0.368769</td>\n",
              "    </tr>\n",
              "    <tr>\n",
              "      <th>2021-09-01</th>\n",
              "      <td>-2.56</td>\n",
              "      <td>0.365986</td>\n",
              "    </tr>\n",
              "    <tr>\n",
              "      <th>2021-10-01</th>\n",
              "      <td>2.06</td>\n",
              "      <td>0.385196</td>\n",
              "    </tr>\n",
              "  </tbody>\n",
              "</table>\n",
              "</div>"
            ],
            "text/plain": [
              "            KOTA MEULABOH  Prediction\n",
              "BULAN                                \n",
              "2021-06-01          -0.68    0.397746\n",
              "2021-07-01           0.80    0.350624\n",
              "2021-08-01          -0.44    0.368769\n",
              "2021-09-01          -2.56    0.365986\n",
              "2021-10-01           2.06    0.385196"
            ]
          },
          "metadata": {},
          "execution_count": 487
        }
      ]
    },
    {
      "cell_type": "code",
      "metadata": {
        "colab": {
          "base_uri": "https://localhost:8080/",
          "height": 352
        },
        "id": "MeLL-oVpqOps",
        "outputId": "e981e3ed-dc2c-4daf-9828-4b51ceb43050"
      },
      "source": [
        "test.plot(figsize=(14,5))"
      ],
      "execution_count": null,
      "outputs": [
        {
          "output_type": "execute_result",
          "data": {
            "text/plain": [
              "<matplotlib.axes._subplots.AxesSubplot at 0x7facc3e5a150>"
            ]
          },
          "metadata": {},
          "execution_count": 488
        },
        {
          "output_type": "display_data",
          "data": {
            "image/png": "[encoded data removed]",
            "text/plain": [
              "<Figure size 1008x360 with 1 Axes>"
            ]
          },
          "metadata": {
            "needs_background": "light"
          }
        }
      ]
    },
    {
      "cell_type": "code",
      "metadata": {
        "colab": {
          "base_uri": "https://localhost:8080/"
        },
        "id": "nqiDXaiIqXtj",
        "outputId": "3738af0f-5c74-4ec0-b939-497faba27555"
      },
      "source": [
        "from sklearn.metrics import mean_squared_error\n",
        "from math import sqrt\n",
        "rmse=mean_squared_error(test['KOTA MEULABOH'],test['Prediction'])\n",
        "print(rmse)"
      ],
      "execution_count": null,
      "outputs": [
        {
          "output_type": "stream",
          "name": "stdout",
          "text": [
            "2.574000765916763\n"
          ]
        }
      ]
    },
    {
      "cell_type": "markdown",
      "metadata": {
        "id": "-SOu4cGz-6mU"
      },
      "source": [
        "## 4. Forecasting"
      ]
    },
    {
      "cell_type": "code",
      "metadata": {
        "id": "6aDzCtJkJJRd"
      },
      "source": [
        "month_vals = []\n",
        "for i in range(100):\n",
        "    month_vals.append(i)\n",
        "forecast_data = pd.DataFrame(month_vals, columns = ['Prediction'])\n",
        "# forecast_data['URUTAN'] = month_vals"
      ],
      "execution_count": null,
      "outputs": []
    },
    {
      "cell_type": "code",
      "metadata": {
        "id": "FpjhxCyMqbJn"
      },
      "source": [
        "forecast_data['date'] = pd.date_range(start='10/1/2021', periods=len(forecast_data), freq='M')"
      ],
      "execution_count": null,
      "outputs": []
    },
    {
      "cell_type": "code",
      "metadata": {
        "colab": {
          "base_uri": "https://localhost:8080/",
          "height": 423
        },
        "id": "bde_0yj4DxBw",
        "outputId": "209c783c-3a2a-430e-98f3-4cb0caff597a"
      },
      "source": [
        "forecast_data"
      ],
      "execution_count": null,
      "outputs": [
        {
          "output_type": "execute_result",
          "data": {
            "text/html": [
              "<div>\n",
              "<style scoped>\n",
              "    .dataframe tbody tr th:only-of-type {\n",
              "        vertical-align: middle;\n",
              "    }\n",
              "\n",
              "    .dataframe tbody tr th {\n",
              "        vertical-align: top;\n",
              "    }\n",
              "\n",
              "    .dataframe thead th {\n",
              "        text-align: right;\n",
              "    }\n",
              "</style>\n",
              "<table border=\"1\" class=\"dataframe\">\n",
              "  <thead>\n",
              "    <tr style=\"text-align: right;\">\n",
              "      <th></th>\n",
              "      <th>Prediction</th>\n",
              "      <th>date</th>\n",
              "    </tr>\n",
              "  </thead>\n",
              "  <tbody>\n",
              "    <tr>\n",
              "      <th>0</th>\n",
              "      <td>0</td>\n",
              "      <td>2021-10-31</td>\n",
              "    </tr>\n",
              "    <tr>\n",
              "      <th>1</th>\n",
              "      <td>1</td>\n",
              "      <td>2021-11-30</td>\n",
              "    </tr>\n",
              "    <tr>\n",
              "      <th>2</th>\n",
              "      <td>2</td>\n",
              "      <td>2021-12-31</td>\n",
              "    </tr>\n",
              "    <tr>\n",
              "      <th>3</th>\n",
              "      <td>3</td>\n",
              "      <td>2022-01-31</td>\n",
              "    </tr>\n",
              "    <tr>\n",
              "      <th>4</th>\n",
              "      <td>4</td>\n",
              "      <td>2022-02-28</td>\n",
              "    </tr>\n",
              "    <tr>\n",
              "      <th>...</th>\n",
              "      <td>...</td>\n",
              "      <td>...</td>\n",
              "    </tr>\n",
              "    <tr>\n",
              "      <th>95</th>\n",
              "      <td>95</td>\n",
              "      <td>2029-09-30</td>\n",
              "    </tr>\n",
              "    <tr>\n",
              "      <th>96</th>\n",
              "      <td>96</td>\n",
              "      <td>2029-10-31</td>\n",
              "    </tr>\n",
              "    <tr>\n",
              "      <th>97</th>\n",
              "      <td>97</td>\n",
              "      <td>2029-11-30</td>\n",
              "    </tr>\n",
              "    <tr>\n",
              "      <th>98</th>\n",
              "      <td>98</td>\n",
              "      <td>2029-12-31</td>\n",
              "    </tr>\n",
              "    <tr>\n",
              "      <th>99</th>\n",
              "      <td>99</td>\n",
              "      <td>2030-01-31</td>\n",
              "    </tr>\n",
              "  </tbody>\n",
              "</table>\n",
              "<p>100 rows × 2 columns</p>\n",
              "</div>"
            ],
            "text/plain": [
              "    Prediction       date\n",
              "0            0 2021-10-31\n",
              "1            1 2021-11-30\n",
              "2            2 2021-12-31\n",
              "3            3 2022-01-31\n",
              "4            4 2022-02-28\n",
              "..         ...        ...\n",
              "95          95 2029-09-30\n",
              "96          96 2029-10-31\n",
              "97          97 2029-11-30\n",
              "98          98 2029-12-31\n",
              "99          99 2030-01-31\n",
              "\n",
              "[100 rows x 2 columns]"
            ]
          },
          "metadata": {},
          "execution_count": 492
        }
      ]
    },
    {
      "cell_type": "code",
      "metadata": {
        "id": "9XmVIFDovQkk",
        "colab": {
          "base_uri": "https://localhost:8080/",
          "height": 455
        },
        "outputId": "6f4358e2-eca8-4b9e-efa6-8086feea9f88"
      },
      "source": [
        "forecast_data.set_index('date')"
      ],
      "execution_count": null,
      "outputs": [
        {
          "output_type": "execute_result",
          "data": {
            "text/html": [
              "<div>\n",
              "<style scoped>\n",
              "    .dataframe tbody tr th:only-of-type {\n",
              "        vertical-align: middle;\n",
              "    }\n",
              "\n",
              "    .dataframe tbody tr th {\n",
              "        vertical-align: top;\n",
              "    }\n",
              "\n",
              "    .dataframe thead th {\n",
              "        text-align: right;\n",
              "    }\n",
              "</style>\n",
              "<table border=\"1\" class=\"dataframe\">\n",
              "  <thead>\n",
              "    <tr style=\"text-align: right;\">\n",
              "      <th></th>\n",
              "      <th>Prediction</th>\n",
              "    </tr>\n",
              "    <tr>\n",
              "      <th>date</th>\n",
              "      <th></th>\n",
              "    </tr>\n",
              "  </thead>\n",
              "  <tbody>\n",
              "    <tr>\n",
              "      <th>2021-10-31</th>\n",
              "      <td>0</td>\n",
              "    </tr>\n",
              "    <tr>\n",
              "      <th>2021-11-30</th>\n",
              "      <td>1</td>\n",
              "    </tr>\n",
              "    <tr>\n",
              "      <th>2021-12-31</th>\n",
              "      <td>2</td>\n",
              "    </tr>\n",
              "    <tr>\n",
              "      <th>2022-01-31</th>\n",
              "      <td>3</td>\n",
              "    </tr>\n",
              "    <tr>\n",
              "      <th>2022-02-28</th>\n",
              "      <td>4</td>\n",
              "    </tr>\n",
              "    <tr>\n",
              "      <th>...</th>\n",
              "      <td>...</td>\n",
              "    </tr>\n",
              "    <tr>\n",
              "      <th>2029-09-30</th>\n",
              "      <td>95</td>\n",
              "    </tr>\n",
              "    <tr>\n",
              "      <th>2029-10-31</th>\n",
              "      <td>96</td>\n",
              "    </tr>\n",
              "    <tr>\n",
              "      <th>2029-11-30</th>\n",
              "      <td>97</td>\n",
              "    </tr>\n",
              "    <tr>\n",
              "      <th>2029-12-31</th>\n",
              "      <td>98</td>\n",
              "    </tr>\n",
              "    <tr>\n",
              "      <th>2030-01-31</th>\n",
              "      <td>99</td>\n",
              "    </tr>\n",
              "  </tbody>\n",
              "</table>\n",
              "<p>100 rows × 1 columns</p>\n",
              "</div>"
            ],
            "text/plain": [
              "            Prediction\n",
              "date                  \n",
              "2021-10-31           0\n",
              "2021-11-30           1\n",
              "2021-12-31           2\n",
              "2022-01-31           3\n",
              "2022-02-28           4\n",
              "...                ...\n",
              "2029-09-30          95\n",
              "2029-10-31          96\n",
              "2029-11-30          97\n",
              "2029-12-31          98\n",
              "2030-01-31          99\n",
              "\n",
              "[100 rows x 1 columns]"
            ]
          },
          "metadata": {},
          "execution_count": 493
        }
      ]
    },
    {
      "cell_type": "code",
      "metadata": {
        "id": "iZArDz5oLg1d"
      },
      "source": [
        "forecast_predictions = []\n",
        "\n",
        "first_eval_batch = scaled_test[-n_input:]\n",
        "current_batch = first_eval_batch.reshape((1, n_input, n_features))\n",
        "\n",
        "for i in range(len(forecast_data)):\n",
        "    \n",
        "    # get the prediction value for the first batch\n",
        "    current_pred = model.predict(current_batch)[0]\n",
        "    \n",
        "    # append the prediction into the array\n",
        "    forecast_predictions.append(current_pred) \n",
        "    \n",
        "    # use the prediction to update the batch and remove the first value\n",
        "    current_batch = np.append(current_batch[:,1:,:],[[current_pred]],axis=1)"
      ],
      "execution_count": null,
      "outputs": []
    },
    {
      "cell_type": "code",
      "metadata": {
        "id": "d9NwlW8Bu_DW"
      },
      "source": [
        "forecast_data['Prediction']=forecast_predictions"
      ],
      "execution_count": null,
      "outputs": []
    },
    {
      "cell_type": "code",
      "metadata": {
        "id": "2k0JmBgDCq46"
      },
      "source": [
        "forecast_data"
      ],
      "execution_count": null,
      "outputs": []
    },
    {
      "cell_type": "code",
      "metadata": {
        "id": "AHgRmoJaC4Hm"
      },
      "source": [
        "forecast_data['Prediction'] = forecast_data['Prediction'].astype(float, errors = 'raise')"
      ],
      "execution_count": null,
      "outputs": []
    },
    {
      "cell_type": "markdown",
      "metadata": {
        "id": "7IOoPkzJDnmQ"
      },
      "source": [
        "## 5. Masking the dates"
      ]
    },
    {
      "cell_type": "code",
      "metadata": {
        "id": "b_Yg_UYaC_pV"
      },
      "source": [
        "mask = (forecast_data['date'] > '2021-10-31') & (forecast_data['date'] <= '2021-12-31')"
      ],
      "execution_count": null,
      "outputs": []
    },
    {
      "cell_type": "code",
      "metadata": {
        "id": "4VWjFMSHEpSE"
      },
      "source": [
        "mask2 = forecast_data.loc[mask]"
      ],
      "execution_count": null,
      "outputs": []
    },
    {
      "cell_type": "code",
      "metadata": {
        "id": "1FK3CAO5EuOX"
      },
      "source": [
        "mask2"
      ],
      "execution_count": null,
      "outputs": []
    },
    {
      "cell_type": "code",
      "metadata": {
        "id": "-3_YEuvZFCyO"
      },
      "source": [
        "inflation_average_rate = (mask2['Prediction'].sum())/mask2.shape[0]"
      ],
      "execution_count": null,
      "outputs": []
    },
    {
      "cell_type": "code",
      "metadata": {
        "id": "7LNrjy3rFWub"
      },
      "source": [
        "print(inflation_average_rate)"
      ],
      "execution_count": null,
      "outputs": []
    },
    {
      "cell_type": "code",
      "metadata": {
        "id": "-9huDKg8FYcE"
      },
      "source": [
        ""
      ],
      "execution_count": null,
      "outputs": []
    }
  ]
}