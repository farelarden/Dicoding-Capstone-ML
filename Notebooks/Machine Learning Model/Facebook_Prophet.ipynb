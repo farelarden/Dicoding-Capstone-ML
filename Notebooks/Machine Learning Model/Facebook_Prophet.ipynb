{
  "nbformat": 4,
  "nbformat_minor": 0,
  "metadata": {
    "colab": {
      "name": "Facebook Prophet.ipynb",
      "provenance": []
    },
    "kernelspec": {
      "name": "python3",
      "display_name": "Python 3"
    },
    "language_info": {
      "name": "python"
    }
  },
  "cells": [
    {
      "cell_type": "code",
      "metadata": {
        "id": "JJrhvILYgq9r"
      },
      "source": [
        "import os\n",
        "import pandas as pd\n",
        "from fbprophet import Prophet\n",
        "\n",
        "import warnings; \n",
        "warnings.simplefilter('ignore')"
      ],
      "execution_count": null,
      "outputs": []
    },
    {
      "cell_type": "code",
      "metadata": {
        "colab": {
          "base_uri": "https://localhost:8080/"
        },
        "id": "9zlEz3xAmkgm",
        "outputId": "f1b33262-b67d-4e56-f8b9-9a12ecbf49d2"
      },
      "source": [
        "!pip install pystan\n",
        "!pip install fbprophet"
      ],
      "execution_count": null,
      "outputs": [
        {
          "output_type": "stream",
          "name": "stdout",
          "text": [
            "Requirement already satisfied: pystan in /usr/local/lib/python3.7/dist-packages (2.19.1.1)\n",
            "Requirement already satisfied: numpy>=1.7 in /usr/local/lib/python3.7/dist-packages (from pystan) (1.19.5)\n",
            "Requirement already satisfied: Cython!=0.25.1,>=0.22 in /usr/local/lib/python3.7/dist-packages (from pystan) (0.29.24)\n",
            "Requirement already satisfied: fbprophet in /usr/local/lib/python3.7/dist-packages (0.7.1)\n",
            "Requirement already satisfied: Cython>=0.22 in /usr/local/lib/python3.7/dist-packages (from fbprophet) (0.29.24)\n",
            "Requirement already satisfied: cmdstanpy==0.9.5 in /usr/local/lib/python3.7/dist-packages (from fbprophet) (0.9.5)\n",
            "Requirement already satisfied: pystan>=2.14 in /usr/local/lib/python3.7/dist-packages (from fbprophet) (2.19.1.1)\n",
            "Requirement already satisfied: numpy>=1.15.4 in /usr/local/lib/python3.7/dist-packages (from fbprophet) (1.19.5)\n",
            "Requirement already satisfied: pandas>=1.0.4 in /usr/local/lib/python3.7/dist-packages (from fbprophet) (1.1.5)\n",
            "Requirement already satisfied: matplotlib>=2.0.0 in /usr/local/lib/python3.7/dist-packages (from fbprophet) (3.2.2)\n",
            "Requirement already satisfied: LunarCalendar>=0.0.9 in /usr/local/lib/python3.7/dist-packages (from fbprophet) (0.0.9)\n",
            "Requirement already satisfied: convertdate>=2.1.2 in /usr/local/lib/python3.7/dist-packages (from fbprophet) (2.3.2)\n",
            "Requirement already satisfied: holidays>=0.10.2 in /usr/local/lib/python3.7/dist-packages (from fbprophet) (0.10.5.2)\n",
            "Requirement already satisfied: setuptools-git>=1.2 in /usr/local/lib/python3.7/dist-packages (from fbprophet) (1.2)\n",
            "Requirement already satisfied: python-dateutil>=2.8.0 in /usr/local/lib/python3.7/dist-packages (from fbprophet) (2.8.2)\n",
            "Requirement already satisfied: tqdm>=4.36.1 in /usr/local/lib/python3.7/dist-packages (from fbprophet) (4.62.3)\n",
            "Requirement already satisfied: pytz>=2014.10 in /usr/local/lib/python3.7/dist-packages (from convertdate>=2.1.2->fbprophet) (2018.9)\n",
            "Requirement already satisfied: pymeeus<=1,>=0.3.13 in /usr/local/lib/python3.7/dist-packages (from convertdate>=2.1.2->fbprophet) (0.5.11)\n",
            "Requirement already satisfied: hijri-converter in /usr/local/lib/python3.7/dist-packages (from holidays>=0.10.2->fbprophet) (2.2.2)\n",
            "Requirement already satisfied: six in /usr/local/lib/python3.7/dist-packages (from holidays>=0.10.2->fbprophet) (1.15.0)\n",
            "Requirement already satisfied: korean-lunar-calendar in /usr/local/lib/python3.7/dist-packages (from holidays>=0.10.2->fbprophet) (0.2.1)\n",
            "Requirement already satisfied: ephem>=3.7.5.3 in /usr/local/lib/python3.7/dist-packages (from LunarCalendar>=0.0.9->fbprophet) (4.1)\n",
            "Requirement already satisfied: pyparsing!=2.0.4,!=2.1.2,!=2.1.6,>=2.0.1 in /usr/local/lib/python3.7/dist-packages (from matplotlib>=2.0.0->fbprophet) (3.0.6)\n",
            "Requirement already satisfied: kiwisolver>=1.0.1 in /usr/local/lib/python3.7/dist-packages (from matplotlib>=2.0.0->fbprophet) (1.3.2)\n",
            "Requirement already satisfied: cycler>=0.10 in /usr/local/lib/python3.7/dist-packages (from matplotlib>=2.0.0->fbprophet) (0.11.0)\n"
          ]
        }
      ]
    },
    {
      "cell_type": "code",
      "metadata": {
        "colab": {
          "base_uri": "https://localhost:8080/"
        },
        "id": "G63ycXJbhYYJ",
        "outputId": "d0040a5e-5257-4db7-c8b2-5d6a318e1420"
      },
      "source": [
        "!git clone https://github.com/farelarden/Dicoding-Capstone-ML.git"
      ],
      "execution_count": null,
      "outputs": [
        {
          "output_type": "stream",
          "name": "stdout",
          "text": [
            "fatal: destination path 'Dicoding-Capstone-ML' already exists and is not an empty directory.\n"
          ]
        }
      ]
    },
    {
      "cell_type": "code",
      "metadata": {
        "id": "OFdnt_i1hY7u"
      },
      "source": [
        "df_Makanan = pd.read_csv('/content/Dicoding-Capstone-ML/Dataset/Fix Dataset/fix 02 - Makanan.csv')\n",
        "df_Minuman = pd.read_csv('/content/Dicoding-Capstone-ML/Dataset/Fix Dataset/fix 02 - Minuman.csv')\n",
        "df_Rumah = pd.read_csv('/content/Dicoding-Capstone-ML/Dataset/Fix Dataset/fix 03 - Rumah.csv')\n",
        "df_Sandang = pd.read_csv('/content/Dicoding-Capstone-ML/Dataset/Fix Dataset/fix 04 - Sandang.csv')\n",
        "df_Transportasi = pd.read_csv('/content/Dicoding-Capstone-ML/Dataset/Fix Dataset/fix 07 - Transportasi.csv')"
      ],
      "execution_count": null,
      "outputs": []
    },
    {
      "cell_type": "code",
      "metadata": {
        "id": "YN_vU8j2mAxa"
      },
      "source": [
        "df_Makanan.head()\n",
        "df_Makanan= df_Makanan.drop(['URUTAN'], axis=1)"
      ],
      "execution_count": null,
      "outputs": []
    },
    {
      "cell_type": "code",
      "metadata": {
        "colab": {
          "base_uri": "https://localhost:8080/",
          "height": 377
        },
        "id": "VGUh6QjlnBhD",
        "outputId": "6262c410-7d08-48c1-8c7d-8747c5a72646"
      },
      "source": [
        "df_Makanan.head()"
      ],
      "execution_count": null,
      "outputs": [
        {
          "output_type": "execute_result",
          "data": {
            "text/html": [
              "<div>\n",
              "<style scoped>\n",
              "    .dataframe tbody tr th:only-of-type {\n",
              "        vertical-align: middle;\n",
              "    }\n",
              "\n",
              "    .dataframe tbody tr th {\n",
              "        vertical-align: top;\n",
              "    }\n",
              "\n",
              "    .dataframe thead th {\n",
              "        text-align: right;\n",
              "    }\n",
              "</style>\n",
              "<table border=\"1\" class=\"dataframe\">\n",
              "  <thead>\n",
              "    <tr style=\"text-align: right;\">\n",
              "      <th></th>\n",
              "      <th>Unnamed: 0</th>\n",
              "      <th>BULAN</th>\n",
              "      <th>KOTA MEULABOH</th>\n",
              "      <th>KOTA BANDA ACEH</th>\n",
              "      <th>KOTA LHOKSEUMAWE</th>\n",
              "      <th>KOTA SIBOLGA</th>\n",
              "      <th>KOTA PEMATANG SIANTAR</th>\n",
              "      <th>KOTA MEDAN</th>\n",
              "      <th>KOTA PADANGSIDIMPUAN</th>\n",
              "      <th>KOTA PADANG</th>\n",
              "      <th>KOTA BUKITTINGGI</th>\n",
              "      <th>TEMBILAHAN</th>\n",
              "      <th>KOTA PEKANBARU</th>\n",
              "      <th>KOTA DUMAI</th>\n",
              "      <th>BUNGO</th>\n",
              "      <th>KOTA JAMBI</th>\n",
              "      <th>KOTA PALEMBANG</th>\n",
              "      <th>KOTA LUBUKLINGGAU</th>\n",
              "      <th>KOTA BENGKULU</th>\n",
              "      <th>KOTA BANDAR LAMPUNG</th>\n",
              "      <th>KOTA METRO</th>\n",
              "      <th>TANJUNG PANDAN</th>\n",
              "      <th>KOTA PANGKAL PINANG</th>\n",
              "      <th>KOTA BATAM</th>\n",
              "      <th>KOTA TANJUNG PINANG</th>\n",
              "      <th>DKI JAKARTA</th>\n",
              "      <th>KOTA BOGOR</th>\n",
              "      <th>KOTA SUKABUMI</th>\n",
              "      <th>KOTA BANDUNG</th>\n",
              "      <th>KOTA CIREBON</th>\n",
              "      <th>KOTA BEKASI</th>\n",
              "      <th>KOTA DEPOK</th>\n",
              "      <th>KOTA TASIKMALAYA</th>\n",
              "      <th>CILACAP</th>\n",
              "      <th>PURWOKERTO</th>\n",
              "      <th>KUDUS</th>\n",
              "      <th>KOTA SURAKARTA</th>\n",
              "      <th>KOTA SEMARANG</th>\n",
              "      <th>KOTA TEGAL</th>\n",
              "      <th>KOTA YOGYAKARTA</th>\n",
              "      <th>...</th>\n",
              "      <th>KOTA MALANG</th>\n",
              "      <th>KOTA PROBOLINGGO</th>\n",
              "      <th>KOTA MADIUN</th>\n",
              "      <th>KOTA SURABAYA</th>\n",
              "      <th>KOTA TANGERANG</th>\n",
              "      <th>KOTA CILEGON</th>\n",
              "      <th>KOTA SERANG</th>\n",
              "      <th>SINGARAJA</th>\n",
              "      <th>KOTA DENPASAR</th>\n",
              "      <th>KOTA MATARAM</th>\n",
              "      <th>KOTA BIMA</th>\n",
              "      <th>MAUMERE</th>\n",
              "      <th>KOTA KUPANG</th>\n",
              "      <th>KOTA PONTIANAK</th>\n",
              "      <th>KOTA SINGKAWANG</th>\n",
              "      <th>SAMPIT</th>\n",
              "      <th>KOTA PALANGKA RAYA</th>\n",
              "      <th>TANJUNG</th>\n",
              "      <th>KOTA BANJARMASIN</th>\n",
              "      <th>KOTA BALIKPAPAN</th>\n",
              "      <th>KOTA SAMARINDA</th>\n",
              "      <th>KOTA TARAKAN</th>\n",
              "      <th>KOTA MANADO</th>\n",
              "      <th>KOTA PALU</th>\n",
              "      <th>BULUKUMBA</th>\n",
              "      <th>WATAMPONE</th>\n",
              "      <th>KOTA MAKASSAR</th>\n",
              "      <th>KOTA PARE-PARE</th>\n",
              "      <th>KOTA PALOPO</th>\n",
              "      <th>KOTA KENDARI</th>\n",
              "      <th>KOTA BAU-BAU</th>\n",
              "      <th>KOTA GORONTALO</th>\n",
              "      <th>MAMUJU</th>\n",
              "      <th>KOTA AMBON</th>\n",
              "      <th>KOTA TUAL</th>\n",
              "      <th>KOTA TERNATE</th>\n",
              "      <th>MANOKWARI</th>\n",
              "      <th>KOTA SORONG</th>\n",
              "      <th>MERAUKE</th>\n",
              "      <th>KOTA JAYAPURA</th>\n",
              "    </tr>\n",
              "  </thead>\n",
              "  <tbody>\n",
              "    <tr>\n",
              "      <th>0</th>\n",
              "      <td>0</td>\n",
              "      <td>2014-01-01</td>\n",
              "      <td>1.10</td>\n",
              "      <td>0.25</td>\n",
              "      <td>0.31</td>\n",
              "      <td>0.20</td>\n",
              "      <td>0.12</td>\n",
              "      <td>0.39</td>\n",
              "      <td>1.53</td>\n",
              "      <td>0.25</td>\n",
              "      <td>0.12</td>\n",
              "      <td>0.0</td>\n",
              "      <td>1.34</td>\n",
              "      <td>0.66</td>\n",
              "      <td>0.68</td>\n",
              "      <td>0.34</td>\n",
              "      <td>0.37</td>\n",
              "      <td>0.04</td>\n",
              "      <td>0.56</td>\n",
              "      <td>0.37</td>\n",
              "      <td>-0.06</td>\n",
              "      <td>0.00</td>\n",
              "      <td>2.65</td>\n",
              "      <td>0.03</td>\n",
              "      <td>1.08</td>\n",
              "      <td>0.66</td>\n",
              "      <td>0.73</td>\n",
              "      <td>3.43</td>\n",
              "      <td>1.31</td>\n",
              "      <td>0.00</td>\n",
              "      <td>1.58</td>\n",
              "      <td>0.14</td>\n",
              "      <td>0.17</td>\n",
              "      <td>0.00</td>\n",
              "      <td>1.16</td>\n",
              "      <td>0.54</td>\n",
              "      <td>0.85</td>\n",
              "      <td>0.44</td>\n",
              "      <td>0.91</td>\n",
              "      <td>0.04</td>\n",
              "      <td>...</td>\n",
              "      <td>0.36</td>\n",
              "      <td>0.06</td>\n",
              "      <td>1.29</td>\n",
              "      <td>1.54</td>\n",
              "      <td>1.07</td>\n",
              "      <td>0.45</td>\n",
              "      <td>0.57</td>\n",
              "      <td>1.47</td>\n",
              "      <td>1.17</td>\n",
              "      <td>0.01</td>\n",
              "      <td>7.81</td>\n",
              "      <td>0.20</td>\n",
              "      <td>0.08</td>\n",
              "      <td>0.64</td>\n",
              "      <td>0.18</td>\n",
              "      <td>2.49</td>\n",
              "      <td>2.01</td>\n",
              "      <td>0.00</td>\n",
              "      <td>0.20</td>\n",
              "      <td>1.09</td>\n",
              "      <td>0.24</td>\n",
              "      <td>0.95</td>\n",
              "      <td>0.51</td>\n",
              "      <td>0.01</td>\n",
              "      <td>0.33</td>\n",
              "      <td>0.33</td>\n",
              "      <td>2.39</td>\n",
              "      <td>2.33</td>\n",
              "      <td>0.67</td>\n",
              "      <td>0.11</td>\n",
              "      <td>0.65</td>\n",
              "      <td>0.70</td>\n",
              "      <td>0.06</td>\n",
              "      <td>0.00</td>\n",
              "      <td>1.33</td>\n",
              "      <td>0.00</td>\n",
              "      <td>0.30</td>\n",
              "      <td>2.26</td>\n",
              "      <td>1.89</td>\n",
              "      <td>0.76</td>\n",
              "    </tr>\n",
              "    <tr>\n",
              "      <th>1</th>\n",
              "      <td>1</td>\n",
              "      <td>2014-02-01</td>\n",
              "      <td>0.88</td>\n",
              "      <td>0.00</td>\n",
              "      <td>0.00</td>\n",
              "      <td>0.29</td>\n",
              "      <td>0.79</td>\n",
              "      <td>0.22</td>\n",
              "      <td>0.17</td>\n",
              "      <td>0.11</td>\n",
              "      <td>0.63</td>\n",
              "      <td>0.0</td>\n",
              "      <td>1.02</td>\n",
              "      <td>0.80</td>\n",
              "      <td>0.93</td>\n",
              "      <td>0.36</td>\n",
              "      <td>0.00</td>\n",
              "      <td>0.00</td>\n",
              "      <td>0.00</td>\n",
              "      <td>0.26</td>\n",
              "      <td>0.00</td>\n",
              "      <td>0.00</td>\n",
              "      <td>0.02</td>\n",
              "      <td>0.00</td>\n",
              "      <td>0.18</td>\n",
              "      <td>0.01</td>\n",
              "      <td>0.36</td>\n",
              "      <td>0.37</td>\n",
              "      <td>-0.06</td>\n",
              "      <td>0.27</td>\n",
              "      <td>0.09</td>\n",
              "      <td>0.03</td>\n",
              "      <td>0.09</td>\n",
              "      <td>0.58</td>\n",
              "      <td>0.04</td>\n",
              "      <td>1.67</td>\n",
              "      <td>0.52</td>\n",
              "      <td>0.14</td>\n",
              "      <td>1.58</td>\n",
              "      <td>0.38</td>\n",
              "      <td>...</td>\n",
              "      <td>3.19</td>\n",
              "      <td>0.77</td>\n",
              "      <td>0.09</td>\n",
              "      <td>0.25</td>\n",
              "      <td>0.31</td>\n",
              "      <td>1.15</td>\n",
              "      <td>1.15</td>\n",
              "      <td>0.00</td>\n",
              "      <td>0.87</td>\n",
              "      <td>1.10</td>\n",
              "      <td>0.06</td>\n",
              "      <td>0.43</td>\n",
              "      <td>1.05</td>\n",
              "      <td>0.06</td>\n",
              "      <td>2.37</td>\n",
              "      <td>0.27</td>\n",
              "      <td>2.12</td>\n",
              "      <td>1.31</td>\n",
              "      <td>2.68</td>\n",
              "      <td>0.01</td>\n",
              "      <td>1.02</td>\n",
              "      <td>0.12</td>\n",
              "      <td>0.97</td>\n",
              "      <td>1.99</td>\n",
              "      <td>0.19</td>\n",
              "      <td>1.00</td>\n",
              "      <td>-0.05</td>\n",
              "      <td>0.49</td>\n",
              "      <td>0.08</td>\n",
              "      <td>0.35</td>\n",
              "      <td>0.61</td>\n",
              "      <td>3.72</td>\n",
              "      <td>0.00</td>\n",
              "      <td>0.00</td>\n",
              "      <td>1.76</td>\n",
              "      <td>1.05</td>\n",
              "      <td>1.21</td>\n",
              "      <td>0.80</td>\n",
              "      <td>0.26</td>\n",
              "      <td>0.38</td>\n",
              "    </tr>\n",
              "    <tr>\n",
              "      <th>2</th>\n",
              "      <td>2</td>\n",
              "      <td>2014-03-01</td>\n",
              "      <td>1.42</td>\n",
              "      <td>0.10</td>\n",
              "      <td>0.73</td>\n",
              "      <td>0.29</td>\n",
              "      <td>0.16</td>\n",
              "      <td>0.22</td>\n",
              "      <td>0.00</td>\n",
              "      <td>0.01</td>\n",
              "      <td>0.00</td>\n",
              "      <td>0.0</td>\n",
              "      <td>0.66</td>\n",
              "      <td>0.02</td>\n",
              "      <td>0.00</td>\n",
              "      <td>0.97</td>\n",
              "      <td>0.31</td>\n",
              "      <td>0.00</td>\n",
              "      <td>0.01</td>\n",
              "      <td>0.06</td>\n",
              "      <td>0.00</td>\n",
              "      <td>1.02</td>\n",
              "      <td>-0.01</td>\n",
              "      <td>0.05</td>\n",
              "      <td>0.69</td>\n",
              "      <td>0.46</td>\n",
              "      <td>0.02</td>\n",
              "      <td>0.52</td>\n",
              "      <td>0.03</td>\n",
              "      <td>0.15</td>\n",
              "      <td>0.33</td>\n",
              "      <td>0.08</td>\n",
              "      <td>0.46</td>\n",
              "      <td>0.04</td>\n",
              "      <td>0.07</td>\n",
              "      <td>0.00</td>\n",
              "      <td>0.31</td>\n",
              "      <td>0.57</td>\n",
              "      <td>0.15</td>\n",
              "      <td>0.15</td>\n",
              "      <td>...</td>\n",
              "      <td>0.27</td>\n",
              "      <td>1.25</td>\n",
              "      <td>-0.05</td>\n",
              "      <td>0.64</td>\n",
              "      <td>1.21</td>\n",
              "      <td>0.34</td>\n",
              "      <td>1.98</td>\n",
              "      <td>1.66</td>\n",
              "      <td>0.09</td>\n",
              "      <td>0.00</td>\n",
              "      <td>1.69</td>\n",
              "      <td>0.28</td>\n",
              "      <td>0.02</td>\n",
              "      <td>0.00</td>\n",
              "      <td>0.02</td>\n",
              "      <td>2.09</td>\n",
              "      <td>0.00</td>\n",
              "      <td>0.97</td>\n",
              "      <td>0.05</td>\n",
              "      <td>-0.01</td>\n",
              "      <td>0.17</td>\n",
              "      <td>0.28</td>\n",
              "      <td>0.44</td>\n",
              "      <td>1.59</td>\n",
              "      <td>0.10</td>\n",
              "      <td>0.55</td>\n",
              "      <td>1.12</td>\n",
              "      <td>0.02</td>\n",
              "      <td>0.10</td>\n",
              "      <td>2.53</td>\n",
              "      <td>0.00</td>\n",
              "      <td>0.00</td>\n",
              "      <td>0.41</td>\n",
              "      <td>0.00</td>\n",
              "      <td>0.00</td>\n",
              "      <td>0.05</td>\n",
              "      <td>0.53</td>\n",
              "      <td>0.00</td>\n",
              "      <td>0.24</td>\n",
              "      <td>0.39</td>\n",
              "    </tr>\n",
              "    <tr>\n",
              "      <th>3</th>\n",
              "      <td>3</td>\n",
              "      <td>2014-04-01</td>\n",
              "      <td>0.17</td>\n",
              "      <td>0.04</td>\n",
              "      <td>1.26</td>\n",
              "      <td>0.12</td>\n",
              "      <td>0.67</td>\n",
              "      <td>1.31</td>\n",
              "      <td>0.93</td>\n",
              "      <td>0.36</td>\n",
              "      <td>0.18</td>\n",
              "      <td>0.0</td>\n",
              "      <td>0.23</td>\n",
              "      <td>0.11</td>\n",
              "      <td>0.17</td>\n",
              "      <td>0.36</td>\n",
              "      <td>0.07</td>\n",
              "      <td>0.00</td>\n",
              "      <td>0.76</td>\n",
              "      <td>0.00</td>\n",
              "      <td>-0.01</td>\n",
              "      <td>0.00</td>\n",
              "      <td>0.00</td>\n",
              "      <td>0.09</td>\n",
              "      <td>0.03</td>\n",
              "      <td>0.04</td>\n",
              "      <td>0.12</td>\n",
              "      <td>0.43</td>\n",
              "      <td>0.71</td>\n",
              "      <td>0.00</td>\n",
              "      <td>0.38</td>\n",
              "      <td>0.18</td>\n",
              "      <td>0.41</td>\n",
              "      <td>0.43</td>\n",
              "      <td>0.17</td>\n",
              "      <td>0.89</td>\n",
              "      <td>0.10</td>\n",
              "      <td>0.06</td>\n",
              "      <td>0.32</td>\n",
              "      <td>0.16</td>\n",
              "      <td>...</td>\n",
              "      <td>0.05</td>\n",
              "      <td>-0.01</td>\n",
              "      <td>0.42</td>\n",
              "      <td>1.37</td>\n",
              "      <td>1.06</td>\n",
              "      <td>0.14</td>\n",
              "      <td>0.00</td>\n",
              "      <td>3.20</td>\n",
              "      <td>0.40</td>\n",
              "      <td>0.09</td>\n",
              "      <td>0.00</td>\n",
              "      <td>0.04</td>\n",
              "      <td>0.05</td>\n",
              "      <td>-0.04</td>\n",
              "      <td>0.03</td>\n",
              "      <td>1.42</td>\n",
              "      <td>0.20</td>\n",
              "      <td>0.83</td>\n",
              "      <td>0.02</td>\n",
              "      <td>0.10</td>\n",
              "      <td>0.36</td>\n",
              "      <td>0.01</td>\n",
              "      <td>1.16</td>\n",
              "      <td>0.02</td>\n",
              "      <td>0.15</td>\n",
              "      <td>0.41</td>\n",
              "      <td>1.18</td>\n",
              "      <td>0.25</td>\n",
              "      <td>0.00</td>\n",
              "      <td>0.10</td>\n",
              "      <td>0.07</td>\n",
              "      <td>0.26</td>\n",
              "      <td>0.04</td>\n",
              "      <td>1.81</td>\n",
              "      <td>0.20</td>\n",
              "      <td>0.00</td>\n",
              "      <td>2.59</td>\n",
              "      <td>0.00</td>\n",
              "      <td>0.81</td>\n",
              "      <td>0.41</td>\n",
              "    </tr>\n",
              "    <tr>\n",
              "      <th>4</th>\n",
              "      <td>4</td>\n",
              "      <td>2014-05-01</td>\n",
              "      <td>-0.01</td>\n",
              "      <td>0.00</td>\n",
              "      <td>0.00</td>\n",
              "      <td>0.00</td>\n",
              "      <td>0.00</td>\n",
              "      <td>0.04</td>\n",
              "      <td>0.00</td>\n",
              "      <td>0.04</td>\n",
              "      <td>0.40</td>\n",
              "      <td>0.0</td>\n",
              "      <td>0.04</td>\n",
              "      <td>0.00</td>\n",
              "      <td>0.00</td>\n",
              "      <td>0.17</td>\n",
              "      <td>0.00</td>\n",
              "      <td>2.58</td>\n",
              "      <td>0.00</td>\n",
              "      <td>0.00</td>\n",
              "      <td>0.06</td>\n",
              "      <td>0.00</td>\n",
              "      <td>0.02</td>\n",
              "      <td>1.20</td>\n",
              "      <td>0.22</td>\n",
              "      <td>0.17</td>\n",
              "      <td>0.20</td>\n",
              "      <td>0.54</td>\n",
              "      <td>0.61</td>\n",
              "      <td>-0.06</td>\n",
              "      <td>0.48</td>\n",
              "      <td>0.01</td>\n",
              "      <td>0.12</td>\n",
              "      <td>0.91</td>\n",
              "      <td>0.00</td>\n",
              "      <td>0.26</td>\n",
              "      <td>0.02</td>\n",
              "      <td>0.18</td>\n",
              "      <td>0.00</td>\n",
              "      <td>0.02</td>\n",
              "      <td>...</td>\n",
              "      <td>0.93</td>\n",
              "      <td>0.24</td>\n",
              "      <td>0.17</td>\n",
              "      <td>0.09</td>\n",
              "      <td>0.19</td>\n",
              "      <td>0.00</td>\n",
              "      <td>0.45</td>\n",
              "      <td>1.85</td>\n",
              "      <td>0.73</td>\n",
              "      <td>1.28</td>\n",
              "      <td>0.46</td>\n",
              "      <td>0.00</td>\n",
              "      <td>0.10</td>\n",
              "      <td>0.31</td>\n",
              "      <td>0.45</td>\n",
              "      <td>0.19</td>\n",
              "      <td>0.00</td>\n",
              "      <td>0.52</td>\n",
              "      <td>0.00</td>\n",
              "      <td>0.09</td>\n",
              "      <td>1.08</td>\n",
              "      <td>0.04</td>\n",
              "      <td>0.81</td>\n",
              "      <td>0.00</td>\n",
              "      <td>0.75</td>\n",
              "      <td>0.42</td>\n",
              "      <td>0.27</td>\n",
              "      <td>1.07</td>\n",
              "      <td>1.03</td>\n",
              "      <td>1.26</td>\n",
              "      <td>0.68</td>\n",
              "      <td>0.00</td>\n",
              "      <td>0.04</td>\n",
              "      <td>0.46</td>\n",
              "      <td>0.00</td>\n",
              "      <td>0.15</td>\n",
              "      <td>0.62</td>\n",
              "      <td>0.00</td>\n",
              "      <td>0.07</td>\n",
              "      <td>0.27</td>\n",
              "    </tr>\n",
              "  </tbody>\n",
              "</table>\n",
              "<p>5 rows × 84 columns</p>\n",
              "</div>"
            ],
            "text/plain": [
              "   Unnamed: 0       BULAN  KOTA MEULABOH  ...  KOTA SORONG  MERAUKE  KOTA JAYAPURA\n",
              "0           0  2014-01-01           1.10  ...         2.26     1.89           0.76\n",
              "1           1  2014-02-01           0.88  ...         0.80     0.26           0.38\n",
              "2           2  2014-03-01           1.42  ...         0.00     0.24           0.39\n",
              "3           3  2014-04-01           0.17  ...         0.00     0.81           0.41\n",
              "4           4  2014-05-01          -0.01  ...         0.00     0.07           0.27\n",
              "\n",
              "[5 rows x 84 columns]"
            ]
          },
          "metadata": {},
          "execution_count": 121
        }
      ]
    },
    {
      "cell_type": "code",
      "metadata": {
        "id": "JyPBEOnUnv-Q"
      },
      "source": [
        "df_Makanan = df_Makanan[['KOTA MEULABOH','BULAN']]\n",
        "df_Makanan.columns = ['y', 'ds']"
      ],
      "execution_count": null,
      "outputs": []
    },
    {
      "cell_type": "code",
      "metadata": {
        "colab": {
          "base_uri": "https://localhost:8080/",
          "height": 206
        },
        "id": "upsuquOaoZVG",
        "outputId": "8eb82180-96dc-4cc8-b72d-9cf57e6ed781"
      },
      "source": [
        "df_Makanan.head()"
      ],
      "execution_count": null,
      "outputs": [
        {
          "output_type": "execute_result",
          "data": {
            "text/html": [
              "<div>\n",
              "<style scoped>\n",
              "    .dataframe tbody tr th:only-of-type {\n",
              "        vertical-align: middle;\n",
              "    }\n",
              "\n",
              "    .dataframe tbody tr th {\n",
              "        vertical-align: top;\n",
              "    }\n",
              "\n",
              "    .dataframe thead th {\n",
              "        text-align: right;\n",
              "    }\n",
              "</style>\n",
              "<table border=\"1\" class=\"dataframe\">\n",
              "  <thead>\n",
              "    <tr style=\"text-align: right;\">\n",
              "      <th></th>\n",
              "      <th>y</th>\n",
              "      <th>ds</th>\n",
              "    </tr>\n",
              "  </thead>\n",
              "  <tbody>\n",
              "    <tr>\n",
              "      <th>0</th>\n",
              "      <td>1.10</td>\n",
              "      <td>2014-01-01</td>\n",
              "    </tr>\n",
              "    <tr>\n",
              "      <th>1</th>\n",
              "      <td>0.88</td>\n",
              "      <td>2014-02-01</td>\n",
              "    </tr>\n",
              "    <tr>\n",
              "      <th>2</th>\n",
              "      <td>1.42</td>\n",
              "      <td>2014-03-01</td>\n",
              "    </tr>\n",
              "    <tr>\n",
              "      <th>3</th>\n",
              "      <td>0.17</td>\n",
              "      <td>2014-04-01</td>\n",
              "    </tr>\n",
              "    <tr>\n",
              "      <th>4</th>\n",
              "      <td>-0.01</td>\n",
              "      <td>2014-05-01</td>\n",
              "    </tr>\n",
              "  </tbody>\n",
              "</table>\n",
              "</div>"
            ],
            "text/plain": [
              "      y          ds\n",
              "0  1.10  2014-01-01\n",
              "1  0.88  2014-02-01\n",
              "2  1.42  2014-03-01\n",
              "3  0.17  2014-04-01\n",
              "4 -0.01  2014-05-01"
            ]
          },
          "metadata": {},
          "execution_count": 123
        }
      ]
    },
    {
      "cell_type": "code",
      "metadata": {
        "colab": {
          "base_uri": "https://localhost:8080/"
        },
        "id": "EdgxkeLvtE5a",
        "outputId": "32d8ea7d-554a-4c6d-d6a9-68df525ee119"
      },
      "source": [
        "df_Makanan.dtypes"
      ],
      "execution_count": null,
      "outputs": [
        {
          "output_type": "execute_result",
          "data": {
            "text/plain": [
              "y     float64\n",
              "ds     object\n",
              "dtype: object"
            ]
          },
          "metadata": {},
          "execution_count": 124
        }
      ]
    },
    {
      "cell_type": "code",
      "metadata": {
        "id": "Y0HT9skypBUT"
      },
      "source": [
        "df_Makanan.y = pd.to_datetime(df_Makanan.y)"
      ],
      "execution_count": null,
      "outputs": []
    },
    {
      "cell_type": "code",
      "metadata": {
        "colab": {
          "base_uri": "https://localhost:8080/",
          "height": 206
        },
        "id": "vvnPlEg3pHPW",
        "outputId": "959a3e54-f57d-4984-f8d4-a441a2c66b28"
      },
      "source": [
        "df_Makanan.head()"
      ],
      "execution_count": null,
      "outputs": [
        {
          "output_type": "execute_result",
          "data": {
            "text/html": [
              "<div>\n",
              "<style scoped>\n",
              "    .dataframe tbody tr th:only-of-type {\n",
              "        vertical-align: middle;\n",
              "    }\n",
              "\n",
              "    .dataframe tbody tr th {\n",
              "        vertical-align: top;\n",
              "    }\n",
              "\n",
              "    .dataframe thead th {\n",
              "        text-align: right;\n",
              "    }\n",
              "</style>\n",
              "<table border=\"1\" class=\"dataframe\">\n",
              "  <thead>\n",
              "    <tr style=\"text-align: right;\">\n",
              "      <th></th>\n",
              "      <th>y</th>\n",
              "      <th>ds</th>\n",
              "    </tr>\n",
              "  </thead>\n",
              "  <tbody>\n",
              "    <tr>\n",
              "      <th>0</th>\n",
              "      <td>1970-01-01 00:00:00.000000001</td>\n",
              "      <td>2014-01-01</td>\n",
              "    </tr>\n",
              "    <tr>\n",
              "      <th>1</th>\n",
              "      <td>1970-01-01 00:00:00.000000000</td>\n",
              "      <td>2014-02-01</td>\n",
              "    </tr>\n",
              "    <tr>\n",
              "      <th>2</th>\n",
              "      <td>1970-01-01 00:00:00.000000001</td>\n",
              "      <td>2014-03-01</td>\n",
              "    </tr>\n",
              "    <tr>\n",
              "      <th>3</th>\n",
              "      <td>1970-01-01 00:00:00.000000000</td>\n",
              "      <td>2014-04-01</td>\n",
              "    </tr>\n",
              "    <tr>\n",
              "      <th>4</th>\n",
              "      <td>1970-01-01 00:00:00.000000000</td>\n",
              "      <td>2014-05-01</td>\n",
              "    </tr>\n",
              "  </tbody>\n",
              "</table>\n",
              "</div>"
            ],
            "text/plain": [
              "                              y          ds\n",
              "0 1970-01-01 00:00:00.000000001  2014-01-01\n",
              "1 1970-01-01 00:00:00.000000000  2014-02-01\n",
              "2 1970-01-01 00:00:00.000000001  2014-03-01\n",
              "3 1970-01-01 00:00:00.000000000  2014-04-01\n",
              "4 1970-01-01 00:00:00.000000000  2014-05-01"
            ]
          },
          "metadata": {},
          "execution_count": 126
        }
      ]
    },
    {
      "cell_type": "code",
      "metadata": {
        "colab": {
          "base_uri": "https://localhost:8080/"
        },
        "id": "ID0ZgfUZp97B",
        "outputId": "42bb1a9b-0132-43fa-9094-1f8a409a7d91"
      },
      "source": [
        "df_Makanan.shape"
      ],
      "execution_count": null,
      "outputs": [
        {
          "output_type": "execute_result",
          "data": {
            "text/plain": [
              "(94, 2)"
            ]
          },
          "metadata": {},
          "execution_count": 127
        }
      ]
    },
    {
      "cell_type": "code",
      "metadata": {
        "colab": {
          "base_uri": "https://localhost:8080/"
        },
        "id": "tISN9ZCWotKt",
        "outputId": "a26ff4a6-dac4-491d-92e4-7fe9e4b7c046"
      },
      "source": [
        "m = Prophet(interval_width=0.95, daily_seasonality=True)\n",
        "model = m.fit(df_Makanan)"
      ],
      "execution_count": null,
      "outputs": [
        {
          "output_type": "stream",
          "name": "stderr",
          "text": [
            "INFO:fbprophet:Disabling weekly seasonality. Run prophet with weekly_seasonality=True to override this.\n"
          ]
        }
      ]
    },
    {
      "cell_type": "code",
      "metadata": {
        "id": "avM4ihS9pP7b"
      },
      "source": [
        "future = m.make_future_dataframe(periods=100,freq='M')"
      ],
      "execution_count": null,
      "outputs": []
    },
    {
      "cell_type": "code",
      "metadata": {
        "colab": {
          "base_uri": "https://localhost:8080/",
          "height": 423
        },
        "id": "jmR_iVRlqSGW",
        "outputId": "4b3b08fd-5fad-46af-c1fe-367b5154b386"
      },
      "source": [
        "future"
      ],
      "execution_count": null,
      "outputs": [
        {
          "output_type": "execute_result",
          "data": {
            "text/html": [
              "<div>\n",
              "<style scoped>\n",
              "    .dataframe tbody tr th:only-of-type {\n",
              "        vertical-align: middle;\n",
              "    }\n",
              "\n",
              "    .dataframe tbody tr th {\n",
              "        vertical-align: top;\n",
              "    }\n",
              "\n",
              "    .dataframe thead th {\n",
              "        text-align: right;\n",
              "    }\n",
              "</style>\n",
              "<table border=\"1\" class=\"dataframe\">\n",
              "  <thead>\n",
              "    <tr style=\"text-align: right;\">\n",
              "      <th></th>\n",
              "      <th>ds</th>\n",
              "    </tr>\n",
              "  </thead>\n",
              "  <tbody>\n",
              "    <tr>\n",
              "      <th>0</th>\n",
              "      <td>2014-01-01</td>\n",
              "    </tr>\n",
              "    <tr>\n",
              "      <th>1</th>\n",
              "      <td>2014-02-01</td>\n",
              "    </tr>\n",
              "    <tr>\n",
              "      <th>2</th>\n",
              "      <td>2014-03-01</td>\n",
              "    </tr>\n",
              "    <tr>\n",
              "      <th>3</th>\n",
              "      <td>2014-04-01</td>\n",
              "    </tr>\n",
              "    <tr>\n",
              "      <th>4</th>\n",
              "      <td>2014-05-01</td>\n",
              "    </tr>\n",
              "    <tr>\n",
              "      <th>...</th>\n",
              "      <td>...</td>\n",
              "    </tr>\n",
              "    <tr>\n",
              "      <th>189</th>\n",
              "      <td>2029-09-30</td>\n",
              "    </tr>\n",
              "    <tr>\n",
              "      <th>190</th>\n",
              "      <td>2029-10-31</td>\n",
              "    </tr>\n",
              "    <tr>\n",
              "      <th>191</th>\n",
              "      <td>2029-11-30</td>\n",
              "    </tr>\n",
              "    <tr>\n",
              "      <th>192</th>\n",
              "      <td>2029-12-31</td>\n",
              "    </tr>\n",
              "    <tr>\n",
              "      <th>193</th>\n",
              "      <td>2030-01-31</td>\n",
              "    </tr>\n",
              "  </tbody>\n",
              "</table>\n",
              "<p>194 rows × 1 columns</p>\n",
              "</div>"
            ],
            "text/plain": [
              "            ds\n",
              "0   2014-01-01\n",
              "1   2014-02-01\n",
              "2   2014-03-01\n",
              "3   2014-04-01\n",
              "4   2014-05-01\n",
              "..         ...\n",
              "189 2029-09-30\n",
              "190 2029-10-31\n",
              "191 2029-11-30\n",
              "192 2029-12-31\n",
              "193 2030-01-31\n",
              "\n",
              "[194 rows x 1 columns]"
            ]
          },
          "metadata": {},
          "execution_count": 130
        }
      ]
    },
    {
      "cell_type": "code",
      "metadata": {
        "colab": {
          "base_uri": "https://localhost:8080/",
          "height": 313
        },
        "id": "BnIydbNjqQaV",
        "outputId": "3adcf82c-06bf-432f-9fea-9e351aa61bc7"
      },
      "source": [
        "forecast = m.predict(future)\n",
        "forecast.head()"
      ],
      "execution_count": null,
      "outputs": [
        {
          "output_type": "execute_result",
          "data": {
            "text/html": [
              "<div>\n",
              "<style scoped>\n",
              "    .dataframe tbody tr th:only-of-type {\n",
              "        vertical-align: middle;\n",
              "    }\n",
              "\n",
              "    .dataframe tbody tr th {\n",
              "        vertical-align: top;\n",
              "    }\n",
              "\n",
              "    .dataframe thead th {\n",
              "        text-align: right;\n",
              "    }\n",
              "</style>\n",
              "<table border=\"1\" class=\"dataframe\">\n",
              "  <thead>\n",
              "    <tr style=\"text-align: right;\">\n",
              "      <th></th>\n",
              "      <th>ds</th>\n",
              "      <th>trend</th>\n",
              "      <th>yhat_lower</th>\n",
              "      <th>yhat_upper</th>\n",
              "      <th>trend_lower</th>\n",
              "      <th>trend_upper</th>\n",
              "      <th>additive_terms</th>\n",
              "      <th>additive_terms_lower</th>\n",
              "      <th>additive_terms_upper</th>\n",
              "      <th>daily</th>\n",
              "      <th>daily_lower</th>\n",
              "      <th>daily_upper</th>\n",
              "      <th>yearly</th>\n",
              "      <th>yearly_lower</th>\n",
              "      <th>yearly_upper</th>\n",
              "      <th>multiplicative_terms</th>\n",
              "      <th>multiplicative_terms_lower</th>\n",
              "      <th>multiplicative_terms_upper</th>\n",
              "      <th>yhat</th>\n",
              "    </tr>\n",
              "  </thead>\n",
              "  <tbody>\n",
              "    <tr>\n",
              "      <th>0</th>\n",
              "      <td>2014-01-01</td>\n",
              "      <td>0.027015</td>\n",
              "      <td>-0.535768</td>\n",
              "      <td>1.789433</td>\n",
              "      <td>0.027015</td>\n",
              "      <td>0.027015</td>\n",
              "      <td>0.655623</td>\n",
              "      <td>0.655623</td>\n",
              "      <td>0.655623</td>\n",
              "      <td>0.432836</td>\n",
              "      <td>0.432836</td>\n",
              "      <td>0.432836</td>\n",
              "      <td>0.222787</td>\n",
              "      <td>0.222787</td>\n",
              "      <td>0.222787</td>\n",
              "      <td>0.0</td>\n",
              "      <td>0.0</td>\n",
              "      <td>0.0</td>\n",
              "      <td>0.682638</td>\n",
              "    </tr>\n",
              "    <tr>\n",
              "      <th>1</th>\n",
              "      <td>2014-02-01</td>\n",
              "      <td>0.027775</td>\n",
              "      <td>-1.418348</td>\n",
              "      <td>0.839502</td>\n",
              "      <td>0.027775</td>\n",
              "      <td>0.027775</td>\n",
              "      <td>-0.303521</td>\n",
              "      <td>-0.303521</td>\n",
              "      <td>-0.303521</td>\n",
              "      <td>0.432836</td>\n",
              "      <td>0.432836</td>\n",
              "      <td>0.432836</td>\n",
              "      <td>-0.736357</td>\n",
              "      <td>-0.736357</td>\n",
              "      <td>-0.736357</td>\n",
              "      <td>0.0</td>\n",
              "      <td>0.0</td>\n",
              "      <td>0.0</td>\n",
              "      <td>-0.275746</td>\n",
              "    </tr>\n",
              "    <tr>\n",
              "      <th>2</th>\n",
              "      <td>2014-03-01</td>\n",
              "      <td>0.028462</td>\n",
              "      <td>-1.130539</td>\n",
              "      <td>1.147471</td>\n",
              "      <td>0.028462</td>\n",
              "      <td>0.028462</td>\n",
              "      <td>-0.022177</td>\n",
              "      <td>-0.022177</td>\n",
              "      <td>-0.022177</td>\n",
              "      <td>0.432836</td>\n",
              "      <td>0.432836</td>\n",
              "      <td>0.432836</td>\n",
              "      <td>-0.455013</td>\n",
              "      <td>-0.455013</td>\n",
              "      <td>-0.455013</td>\n",
              "      <td>0.0</td>\n",
              "      <td>0.0</td>\n",
              "      <td>0.0</td>\n",
              "      <td>0.006284</td>\n",
              "    </tr>\n",
              "    <tr>\n",
              "      <th>3</th>\n",
              "      <td>2014-04-01</td>\n",
              "      <td>0.029222</td>\n",
              "      <td>-1.150729</td>\n",
              "      <td>1.054679</td>\n",
              "      <td>0.029222</td>\n",
              "      <td>0.029222</td>\n",
              "      <td>-0.062581</td>\n",
              "      <td>-0.062581</td>\n",
              "      <td>-0.062581</td>\n",
              "      <td>0.432836</td>\n",
              "      <td>0.432836</td>\n",
              "      <td>0.432836</td>\n",
              "      <td>-0.495417</td>\n",
              "      <td>-0.495417</td>\n",
              "      <td>-0.495417</td>\n",
              "      <td>0.0</td>\n",
              "      <td>0.0</td>\n",
              "      <td>0.0</td>\n",
              "      <td>-0.033360</td>\n",
              "    </tr>\n",
              "    <tr>\n",
              "      <th>4</th>\n",
              "      <td>2014-05-01</td>\n",
              "      <td>0.029957</td>\n",
              "      <td>-1.011603</td>\n",
              "      <td>1.204644</td>\n",
              "      <td>0.029957</td>\n",
              "      <td>0.029957</td>\n",
              "      <td>0.058260</td>\n",
              "      <td>0.058260</td>\n",
              "      <td>0.058260</td>\n",
              "      <td>0.432836</td>\n",
              "      <td>0.432836</td>\n",
              "      <td>0.432836</td>\n",
              "      <td>-0.374576</td>\n",
              "      <td>-0.374576</td>\n",
              "      <td>-0.374576</td>\n",
              "      <td>0.0</td>\n",
              "      <td>0.0</td>\n",
              "      <td>0.0</td>\n",
              "      <td>0.088217</td>\n",
              "    </tr>\n",
              "  </tbody>\n",
              "</table>\n",
              "</div>"
            ],
            "text/plain": [
              "          ds     trend  ...  multiplicative_terms_upper      yhat\n",
              "0 2014-01-01  0.027015  ...                         0.0  0.682638\n",
              "1 2014-02-01  0.027775  ...                         0.0 -0.275746\n",
              "2 2014-03-01  0.028462  ...                         0.0  0.006284\n",
              "3 2014-04-01  0.029222  ...                         0.0 -0.033360\n",
              "4 2014-05-01  0.029957  ...                         0.0  0.088217\n",
              "\n",
              "[5 rows x 19 columns]"
            ]
          },
          "metadata": {},
          "execution_count": 131
        }
      ]
    },
    {
      "cell_type": "code",
      "metadata": {
        "colab": {
          "base_uri": "https://localhost:8080/",
          "height": 441
        },
        "id": "M7JKqAxwowi3",
        "outputId": "a1953a39-4b53-47c0-c0a5-78d97b3dc6bf"
      },
      "source": [
        "plot1 = m.plot(forecast)"
      ],
      "execution_count": null,
      "outputs": [
        {
          "output_type": "display_data",
          "data": {
            "image/png": "[encoded data removed]",
            "text/plain": [
              "<Figure size 720x432 with 1 Axes>"
            ]
          },
          "metadata": {}
        }
      ]
    },
    {
      "cell_type": "code",
      "metadata": {
        "colab": {
          "base_uri": "https://localhost:8080/",
          "height": 656
        },
        "id": "SlPk3rz-pNce",
        "outputId": "5294c12d-556c-4731-afb1-5968fb73cd02"
      },
      "source": [
        "plt2 = m.plot_components(forecast)"
      ],
      "execution_count": null,
      "outputs": [
        {
          "output_type": "display_data",
          "data": {
            "image/png": "[encoded data removed]",
            "text/plain": [
              "<Figure size 648x648 with 3 Axes>"
            ]
          },
          "metadata": {}
        }
      ]
    },
    {
      "cell_type": "code",
      "metadata": {
        "colab": {
          "base_uri": "https://localhost:8080/"
        },
        "id": "9a9FxXTfz_i7",
        "outputId": "8519fe9c-a591-434f-a1f3-eefd5b90c9ce"
      },
      "source": [
        "forecast.dtypes"
      ],
      "execution_count": null,
      "outputs": [
        {
          "output_type": "execute_result",
          "data": {
            "text/plain": [
              "ds                            datetime64[ns]\n",
              "trend                                float64\n",
              "yhat_lower                           float64\n",
              "yhat_upper                           float64\n",
              "trend_lower                          float64\n",
              "trend_upper                          float64\n",
              "additive_terms                       float64\n",
              "additive_terms_lower                 float64\n",
              "additive_terms_upper                 float64\n",
              "daily                                float64\n",
              "daily_lower                          float64\n",
              "daily_upper                          float64\n",
              "yearly                               float64\n",
              "yearly_lower                         float64\n",
              "yearly_upper                         float64\n",
              "multiplicative_terms                 float64\n",
              "multiplicative_terms_lower           float64\n",
              "multiplicative_terms_upper           float64\n",
              "yhat                                 float64\n",
              "dtype: object"
            ]
          },
          "metadata": {},
          "execution_count": 134
        }
      ]
    },
    {
      "cell_type": "code",
      "metadata": {
        "id": "Iftec14kzl88"
      },
      "source": [
        "forecast_value = forecast.loc[forecast.ds == '2018-01-01',['trend']].values[0]"
      ],
      "execution_count": null,
      "outputs": []
    },
    {
      "cell_type": "code",
      "metadata": {
        "colab": {
          "base_uri": "https://localhost:8080/"
        },
        "id": "SC_xpPEDxrdt",
        "outputId": "b229f569-aee3-4623-ba1b-fb10635cb8a1"
      },
      "source": [
        "forecast_value"
      ],
      "execution_count": null,
      "outputs": [
        {
          "output_type": "execute_result",
          "data": {
            "text/plain": [
              "array([0.06283364])"
            ]
          },
          "metadata": {},
          "execution_count": 136
        }
      ]
    },
    {
      "cell_type": "code",
      "metadata": {
        "id": "Ha4S5sFlQzG-"
      },
      "source": [
        ""
      ],
      "execution_count": null,
      "outputs": []
    }
  ]
}