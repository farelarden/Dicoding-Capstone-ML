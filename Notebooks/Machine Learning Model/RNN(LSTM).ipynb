{
  "nbformat": 4,
  "nbformat_minor": 0,
  "metadata": {
    "colab": {
      "name": "RNN(LSTM)",
      "provenance": []
    },
    "kernelspec": {
      "name": "python3",
      "display_name": "Python 3"
    },
    "language_info": {
      "name": "python"
    }
  },
  "cells": [
    {
      "cell_type": "markdown",
      "metadata": {
        "id": "7PUtj63ifkC0"
      },
      "source": [
        "# RNN(LSTM)\n",
        "\n",
        "Here we will forecast the future of inflation using RNN(LSTM)."
      ]
    },
    {
      "cell_type": "markdown",
      "metadata": {
        "id": "Q7uSaEbuf1oK"
      },
      "source": [
        "### 1. Preparing the datasets & Importing neccessary libraries"
      ]
    },
    {
      "cell_type": "code",
      "metadata": {
        "id": "4p24a9MLspWU"
      },
      "source": [
        "import pandas as pd\n",
        "import numpy as np\n",
        "import matplotlib.pyplot as plt\n",
        "import math "
      ],
      "execution_count": null,
      "outputs": []
    },
    {
      "cell_type": "code",
      "metadata": {
        "colab": {
          "base_uri": "https://localhost:8080/"
        },
        "id": "EWFbMsJotYrl",
        "outputId": "e861a4b9-9b51-4131-eadc-46fee0c208be"
      },
      "source": [
        "!git clone https://github.com/farelarden/Dicoding-Capstone-ML.git"
      ],
      "execution_count": null,
      "outputs": [
        {
          "output_type": "stream",
          "name": "stdout",
          "text": [
            "fatal: destination path 'Dicoding-Capstone-ML' already exists and is not an empty directory.\n"
          ]
        }
      ]
    },
    {
      "cell_type": "code",
      "metadata": {
        "id": "oBwqAtDEfjfW"
      },
      "source": [
        "df_Makanan = pd.read_csv('/content/Dicoding-Capstone-ML/Dataset/Fix Dataset/fix 02 - Makanan.csv',index_col='BULAN')\n",
        "df_Minuman = pd.read_csv('/content/Dicoding-Capstone-ML/Dataset/Fix Dataset/fix 02 - Minuman.csv',index_col='BULAN')\n",
        "df_Rumah = pd.read_csv('/content/Dicoding-Capstone-ML/Dataset/Fix Dataset/fix 03 - Rumah.csv',index_col='BULAN')\n",
        "df_Sandang = pd.read_csv('/content/Dicoding-Capstone-ML/Dataset/Fix Dataset/fix 04 - Sandang.csv',index_col='BULAN')\n",
        "df_Transportasi = pd.read_csv('/content/Dicoding-Capstone-ML/Dataset/Fix Dataset/fix 07 - Transportasi.csv',index_col='BULAN')"
      ],
      "execution_count": null,
      "outputs": []
    },
    {
      "cell_type": "code",
      "metadata": {
        "id": "sTSsPUXXXIcz"
      },
      "source": [
        "df_Makanan.index.freq='MS'"
      ],
      "execution_count": null,
      "outputs": []
    },
    {
      "cell_type": "code",
      "metadata": {
        "id": "HaKMbL3ftcs6"
      },
      "source": [
        "df_Makanan = df_Makanan[['KOTA MEULABOH']]"
      ],
      "execution_count": null,
      "outputs": []
    },
    {
      "cell_type": "code",
      "metadata": {
        "colab": {
          "base_uri": "https://localhost:8080/",
          "height": 238
        },
        "id": "XQbV-QMZf_OX",
        "outputId": "a9c5186d-4890-4bcf-9590-685836a44d72"
      },
      "source": [
        "df_Makanan.head()"
      ],
      "execution_count": null,
      "outputs": [
        {
          "output_type": "execute_result",
          "data": {
            "text/html": [
              "<div>\n",
              "<style scoped>\n",
              "    .dataframe tbody tr th:only-of-type {\n",
              "        vertical-align: middle;\n",
              "    }\n",
              "\n",
              "    .dataframe tbody tr th {\n",
              "        vertical-align: top;\n",
              "    }\n",
              "\n",
              "    .dataframe thead th {\n",
              "        text-align: right;\n",
              "    }\n",
              "</style>\n",
              "<table border=\"1\" class=\"dataframe\">\n",
              "  <thead>\n",
              "    <tr style=\"text-align: right;\">\n",
              "      <th></th>\n",
              "      <th>KOTA MEULABOH</th>\n",
              "    </tr>\n",
              "    <tr>\n",
              "      <th>BULAN</th>\n",
              "      <th></th>\n",
              "    </tr>\n",
              "  </thead>\n",
              "  <tbody>\n",
              "    <tr>\n",
              "      <th>2014-01-01</th>\n",
              "      <td>1.10</td>\n",
              "    </tr>\n",
              "    <tr>\n",
              "      <th>2014-02-01</th>\n",
              "      <td>0.88</td>\n",
              "    </tr>\n",
              "    <tr>\n",
              "      <th>2014-03-01</th>\n",
              "      <td>1.42</td>\n",
              "    </tr>\n",
              "    <tr>\n",
              "      <th>2014-04-01</th>\n",
              "      <td>0.17</td>\n",
              "    </tr>\n",
              "    <tr>\n",
              "      <th>2014-05-01</th>\n",
              "      <td>-0.01</td>\n",
              "    </tr>\n",
              "  </tbody>\n",
              "</table>\n",
              "</div>"
            ],
            "text/plain": [
              "            KOTA MEULABOH\n",
              "BULAN                    \n",
              "2014-01-01           1.10\n",
              "2014-02-01           0.88\n",
              "2014-03-01           1.42\n",
              "2014-04-01           0.17\n",
              "2014-05-01          -0.01"
            ]
          },
          "metadata": {},
          "execution_count": 705
        }
      ]
    },
    {
      "cell_type": "code",
      "metadata": {
        "colab": {
          "base_uri": "https://localhost:8080/"
        },
        "id": "G6k8VByIgVpJ",
        "outputId": "d4085e8a-465c-423a-912f-c858b5ba7c13"
      },
      "source": [
        "df_Makanan.shape"
      ],
      "execution_count": null,
      "outputs": [
        {
          "output_type": "execute_result",
          "data": {
            "text/plain": [
              "(94, 1)"
            ]
          },
          "metadata": {},
          "execution_count": 706
        }
      ]
    },
    {
      "cell_type": "code",
      "metadata": {
        "colab": {
          "base_uri": "https://localhost:8080/",
          "height": 406
        },
        "id": "q8QMqewwf8NU",
        "outputId": "5a3e7dd0-17b8-4415-9686-7cd6fdf7d3fa"
      },
      "source": [
        "df_Makanan.plot(figsize=(12,6))"
      ],
      "execution_count": null,
      "outputs": [
        {
          "output_type": "execute_result",
          "data": {
            "text/plain": [
              "<matplotlib.axes._subplots.AxesSubplot at 0x7fa82d571950>"
            ]
          },
          "metadata": {},
          "execution_count": 707
        },
        {
          "output_type": "display_data",
          "data": {
            "image/png": "[encoded data removed]",
            "text/plain": [
              "<Figure size 864x432 with 1 Axes>"
            ]
          },
          "metadata": {
            "needs_background": "light"
          }
        }
      ]
    },
    {
      "cell_type": "code",
      "metadata": {
        "id": "qZt9KaTJYxZu"
      },
      "source": [
        "from statsmodels.tsa.seasonal import seasonal_decompose"
      ],
      "execution_count": null,
      "outputs": []
    },
    {
      "cell_type": "code",
      "metadata": {
        "id": "s-Y2ew_5gGDa"
      },
      "source": [
        "train = df_Makanan.iloc[:math.ceil(df_Makanan.shape[0]*0.8)]\n",
        "test = df_Makanan.iloc[math.ceil(df_Makanan.shape[0]*0.8):]"
      ],
      "execution_count": null,
      "outputs": []
    },
    {
      "cell_type": "code",
      "metadata": {
        "colab": {
          "base_uri": "https://localhost:8080/",
          "height": 455
        },
        "id": "rAQ3lm8zicWv",
        "outputId": "8a7dbdc5-20ad-4743-d066-abd78deb377d"
      },
      "source": [
        "train"
      ],
      "execution_count": null,
      "outputs": [
        {
          "output_type": "execute_result",
          "data": {
            "text/html": [
              "<div>\n",
              "<style scoped>\n",
              "    .dataframe tbody tr th:only-of-type {\n",
              "        vertical-align: middle;\n",
              "    }\n",
              "\n",
              "    .dataframe tbody tr th {\n",
              "        vertical-align: top;\n",
              "    }\n",
              "\n",
              "    .dataframe thead th {\n",
              "        text-align: right;\n",
              "    }\n",
              "</style>\n",
              "<table border=\"1\" class=\"dataframe\">\n",
              "  <thead>\n",
              "    <tr style=\"text-align: right;\">\n",
              "      <th></th>\n",
              "      <th>KOTA MEULABOH</th>\n",
              "    </tr>\n",
              "    <tr>\n",
              "      <th>BULAN</th>\n",
              "      <th></th>\n",
              "    </tr>\n",
              "  </thead>\n",
              "  <tbody>\n",
              "    <tr>\n",
              "      <th>2014-01-01</th>\n",
              "      <td>1.10</td>\n",
              "    </tr>\n",
              "    <tr>\n",
              "      <th>2014-02-01</th>\n",
              "      <td>0.88</td>\n",
              "    </tr>\n",
              "    <tr>\n",
              "      <th>2014-03-01</th>\n",
              "      <td>1.42</td>\n",
              "    </tr>\n",
              "    <tr>\n",
              "      <th>2014-04-01</th>\n",
              "      <td>0.17</td>\n",
              "    </tr>\n",
              "    <tr>\n",
              "      <th>2014-05-01</th>\n",
              "      <td>-0.01</td>\n",
              "    </tr>\n",
              "    <tr>\n",
              "      <th>...</th>\n",
              "      <td>...</td>\n",
              "    </tr>\n",
              "    <tr>\n",
              "      <th>2019-12-01</th>\n",
              "      <td>-0.02</td>\n",
              "    </tr>\n",
              "    <tr>\n",
              "      <th>2020-01-01</th>\n",
              "      <td>3.77</td>\n",
              "    </tr>\n",
              "    <tr>\n",
              "      <th>2020-02-01</th>\n",
              "      <td>-0.81</td>\n",
              "    </tr>\n",
              "    <tr>\n",
              "      <th>2020-03-01</th>\n",
              "      <td>1.41</td>\n",
              "    </tr>\n",
              "    <tr>\n",
              "      <th>2020-04-01</th>\n",
              "      <td>-1.75</td>\n",
              "    </tr>\n",
              "  </tbody>\n",
              "</table>\n",
              "<p>76 rows × 1 columns</p>\n",
              "</div>"
            ],
            "text/plain": [
              "            KOTA MEULABOH\n",
              "BULAN                    \n",
              "2014-01-01           1.10\n",
              "2014-02-01           0.88\n",
              "2014-03-01           1.42\n",
              "2014-04-01           0.17\n",
              "2014-05-01          -0.01\n",
              "...                   ...\n",
              "2019-12-01          -0.02\n",
              "2020-01-01           3.77\n",
              "2020-02-01          -0.81\n",
              "2020-03-01           1.41\n",
              "2020-04-01          -1.75\n",
              "\n",
              "[76 rows x 1 columns]"
            ]
          },
          "metadata": {},
          "execution_count": 710
        }
      ]
    },
    {
      "cell_type": "code",
      "metadata": {
        "id": "ZApCVc2KgIzu"
      },
      "source": [
        "from sklearn.preprocessing import MinMaxScaler\n",
        "scaler = MinMaxScaler()"
      ],
      "execution_count": null,
      "outputs": []
    },
    {
      "cell_type": "code",
      "metadata": {
        "id": "cHY9XU57iIzO"
      },
      "source": [
        "scaler.fit(train)\n",
        "scaled_train = scaler.transform(train)\n",
        "scaled_test = scaler.transform(test)"
      ],
      "execution_count": null,
      "outputs": []
    },
    {
      "cell_type": "code",
      "metadata": {
        "id": "KeS5AAKyiKFG"
      },
      "source": [
        "from keras.preprocessing.sequence import TimeseriesGenerator"
      ],
      "execution_count": null,
      "outputs": []
    },
    {
      "cell_type": "code",
      "metadata": {
        "colab": {
          "base_uri": "https://localhost:8080/"
        },
        "id": "wEPDDAxLYuP0",
        "outputId": "c28e5380-481a-47e6-8e65-d981f9d08641"
      },
      "source": [
        "scaled_train[:10]"
      ],
      "execution_count": null,
      "outputs": [
        {
          "output_type": "execute_result",
          "data": {
            "text/plain": [
              "array([[0.51630435],\n",
              "       [0.47644928],\n",
              "       [0.57427536],\n",
              "       [0.34782609],\n",
              "       [0.31521739],\n",
              "       [0.31702899],\n",
              "       [0.36775362],\n",
              "       [0.62318841],\n",
              "       [0.36231884],\n",
              "       [0.46195652]])"
            ]
          },
          "metadata": {},
          "execution_count": 714
        }
      ]
    },
    {
      "cell_type": "code",
      "metadata": {
        "id": "9NH53eWQYueC"
      },
      "source": [
        "# define generator\n",
        "n_input = 12\n",
        "n_features = 1\n",
        "generator = TimeseriesGenerator(scaled_train, scaled_train, length=n_input, batch_size=1)"
      ],
      "execution_count": null,
      "outputs": []
    },
    {
      "cell_type": "code",
      "metadata": {
        "colab": {
          "base_uri": "https://localhost:8080/"
        },
        "id": "WZmA9_cyZRW_",
        "outputId": "caa21fa7-2e1a-45ea-d091-6e6c1f7af96d"
      },
      "source": [
        "X,y = generator[0]\n",
        "print(f'Given the Array: \\n{X.flatten()}')\n",
        "print(f'Predict this y: \\n {y}')"
      ],
      "execution_count": null,
      "outputs": [
        {
          "output_type": "stream",
          "name": "stdout",
          "text": [
            "Given the Array: \n",
            "[0.51630435 0.47644928 0.57427536 0.34782609 0.31521739 0.31702899\n",
            " 0.36775362 0.62318841 0.36231884 0.46195652 0.31702899 0.31702899]\n",
            "Predict this y: \n",
            " [[0.42934783]]\n"
          ]
        }
      ]
    },
    {
      "cell_type": "code",
      "metadata": {
        "colab": {
          "base_uri": "https://localhost:8080/"
        },
        "id": "48yGEy9dZSUA",
        "outputId": "69fea12f-ea4e-4083-dd0c-0c0183aa46dd"
      },
      "source": [
        "X.shape"
      ],
      "execution_count": null,
      "outputs": [
        {
          "output_type": "execute_result",
          "data": {
            "text/plain": [
              "(1, 12, 1)"
            ]
          },
          "metadata": {},
          "execution_count": 717
        }
      ]
    },
    {
      "cell_type": "code",
      "metadata": {
        "id": "uzr49a7NZTg-"
      },
      "source": [
        "generator = TimeseriesGenerator(scaled_train, scaled_train, length=n_input, batch_size=1)"
      ],
      "execution_count": null,
      "outputs": []
    },
    {
      "cell_type": "code",
      "metadata": {
        "id": "NdIXCASeZVKZ"
      },
      "source": [
        "from keras.models import Sequential\n",
        "from keras.layers import Dense\n",
        "from keras.layers import LSTM"
      ],
      "execution_count": null,
      "outputs": []
    },
    {
      "cell_type": "code",
      "metadata": {
        "id": "Xrxxz7kTZWA1"
      },
      "source": [
        "# define model\n",
        "model = Sequential()\n",
        "model.add(LSTM(100, activation='relu', input_shape=(n_input, n_features)))\n",
        "model.add(Dense(1))\n",
        "model.compile(optimizer='adam', loss='mse')"
      ],
      "execution_count": null,
      "outputs": []
    },
    {
      "cell_type": "code",
      "metadata": {
        "colab": {
          "base_uri": "https://localhost:8080/"
        },
        "id": "JWoMeHK8ZW_o",
        "outputId": "b6651193-2a39-447d-d9e4-a47a45715818"
      },
      "source": [
        "# fit model\n",
        "model.fit(generator,epochs=85)"
      ],
      "execution_count": null,
      "outputs": [
        {
          "output_type": "stream",
          "name": "stdout",
          "text": [
            "Epoch 1/85\n",
            "64/64 [==============================] - 2s 6ms/step - loss: 0.0410\n",
            "Epoch 2/85\n",
            "64/64 [==============================] - 0s 5ms/step - loss: 0.0185\n",
            "Epoch 3/85\n",
            "64/64 [==============================] - 0s 5ms/step - loss: 0.0198\n",
            "Epoch 4/85\n",
            "64/64 [==============================] - 0s 5ms/step - loss: 0.0198\n",
            "Epoch 5/85\n",
            "64/64 [==============================] - 0s 5ms/step - loss: 0.0185\n",
            "Epoch 6/85\n",
            "64/64 [==============================] - 0s 5ms/step - loss: 0.0185\n",
            "Epoch 7/85\n",
            "64/64 [==============================] - 0s 5ms/step - loss: 0.0186\n",
            "Epoch 8/85\n",
            "64/64 [==============================] - 0s 5ms/step - loss: 0.0189\n",
            "Epoch 9/85\n",
            "64/64 [==============================] - 0s 5ms/step - loss: 0.0182\n",
            "Epoch 10/85\n",
            "64/64 [==============================] - 0s 5ms/step - loss: 0.0190\n",
            "Epoch 11/85\n",
            "64/64 [==============================] - 0s 5ms/step - loss: 0.0179\n",
            "Epoch 12/85\n",
            "64/64 [==============================] - 0s 5ms/step - loss: 0.0162\n",
            "Epoch 13/85\n",
            "64/64 [==============================] - 0s 5ms/step - loss: 0.0189\n",
            "Epoch 14/85\n",
            "64/64 [==============================] - 0s 6ms/step - loss: 0.0185\n",
            "Epoch 15/85\n",
            "64/64 [==============================] - 0s 5ms/step - loss: 0.0190\n",
            "Epoch 16/85\n",
            "64/64 [==============================] - 0s 5ms/step - loss: 0.0177\n",
            "Epoch 17/85\n",
            "64/64 [==============================] - 0s 5ms/step - loss: 0.0176\n",
            "Epoch 18/85\n",
            "64/64 [==============================] - 0s 5ms/step - loss: 0.0172\n",
            "Epoch 19/85\n",
            "64/64 [==============================] - 0s 5ms/step - loss: 0.0175\n",
            "Epoch 20/85\n",
            "64/64 [==============================] - 0s 5ms/step - loss: 0.0175\n",
            "Epoch 21/85\n",
            "64/64 [==============================] - 0s 5ms/step - loss: 0.0172\n",
            "Epoch 22/85\n",
            "64/64 [==============================] - 0s 6ms/step - loss: 0.0173\n",
            "Epoch 23/85\n",
            "64/64 [==============================] - 0s 5ms/step - loss: 0.0176\n",
            "Epoch 24/85\n",
            "64/64 [==============================] - 0s 6ms/step - loss: 0.0179\n",
            "Epoch 25/85\n",
            "64/64 [==============================] - 0s 5ms/step - loss: 0.0177\n",
            "Epoch 26/85\n",
            "64/64 [==============================] - 0s 5ms/step - loss: 0.0180\n",
            "Epoch 27/85\n",
            "64/64 [==============================] - 0s 5ms/step - loss: 0.0170\n",
            "Epoch 28/85\n",
            "64/64 [==============================] - 0s 5ms/step - loss: 0.0174\n",
            "Epoch 29/85\n",
            "64/64 [==============================] - 0s 6ms/step - loss: 0.0164\n",
            "Epoch 30/85\n",
            "64/64 [==============================] - 0s 5ms/step - loss: 0.0173\n",
            "Epoch 31/85\n",
            "64/64 [==============================] - 0s 5ms/step - loss: 0.0175\n",
            "Epoch 32/85\n",
            "64/64 [==============================] - 0s 5ms/step - loss: 0.0168\n",
            "Epoch 33/85\n",
            "64/64 [==============================] - 0s 5ms/step - loss: 0.0176\n",
            "Epoch 34/85\n",
            "64/64 [==============================] - 0s 5ms/step - loss: 0.0167\n",
            "Epoch 35/85\n",
            "64/64 [==============================] - 0s 5ms/step - loss: 0.0168\n",
            "Epoch 36/85\n",
            "64/64 [==============================] - 0s 5ms/step - loss: 0.0166\n",
            "Epoch 37/85\n",
            "64/64 [==============================] - 0s 5ms/step - loss: 0.0161\n",
            "Epoch 38/85\n",
            "64/64 [==============================] - 0s 5ms/step - loss: 0.0176\n",
            "Epoch 39/85\n",
            "64/64 [==============================] - 0s 5ms/step - loss: 0.0163\n",
            "Epoch 40/85\n",
            "64/64 [==============================] - 0s 5ms/step - loss: 0.0170\n",
            "Epoch 41/85\n",
            "64/64 [==============================] - 0s 6ms/step - loss: 0.0175\n",
            "Epoch 42/85\n",
            "64/64 [==============================] - 0s 5ms/step - loss: 0.0167\n",
            "Epoch 43/85\n",
            "64/64 [==============================] - 0s 5ms/step - loss: 0.0165\n",
            "Epoch 44/85\n",
            "64/64 [==============================] - 0s 5ms/step - loss: 0.0168\n",
            "Epoch 45/85\n",
            "64/64 [==============================] - 0s 5ms/step - loss: 0.0164\n",
            "Epoch 46/85\n",
            "64/64 [==============================] - 0s 5ms/step - loss: 0.0169\n",
            "Epoch 47/85\n",
            "64/64 [==============================] - 0s 5ms/step - loss: 0.0175\n",
            "Epoch 48/85\n",
            "64/64 [==============================] - 0s 5ms/step - loss: 0.0157\n",
            "Epoch 49/85\n",
            "64/64 [==============================] - 0s 5ms/step - loss: 0.0164\n",
            "Epoch 50/85\n",
            "64/64 [==============================] - 0s 5ms/step - loss: 0.0162\n",
            "Epoch 51/85\n",
            "64/64 [==============================] - 0s 5ms/step - loss: 0.0166\n",
            "Epoch 52/85\n",
            "64/64 [==============================] - 0s 5ms/step - loss: 0.0159\n",
            "Epoch 53/85\n",
            "64/64 [==============================] - 0s 5ms/step - loss: 0.0163\n",
            "Epoch 54/85\n",
            "64/64 [==============================] - 0s 5ms/step - loss: 0.0170\n",
            "Epoch 55/85\n",
            "64/64 [==============================] - 0s 5ms/step - loss: 0.0164\n",
            "Epoch 56/85\n",
            "64/64 [==============================] - 0s 5ms/step - loss: 0.0163\n",
            "Epoch 57/85\n",
            "64/64 [==============================] - 0s 5ms/step - loss: 0.0162\n",
            "Epoch 58/85\n",
            "64/64 [==============================] - 0s 5ms/step - loss: 0.0158\n",
            "Epoch 59/85\n",
            "64/64 [==============================] - 0s 5ms/step - loss: 0.0166\n",
            "Epoch 60/85\n",
            "64/64 [==============================] - 0s 5ms/step - loss: 0.0155\n",
            "Epoch 61/85\n",
            "64/64 [==============================] - 0s 6ms/step - loss: 0.0157\n",
            "Epoch 62/85\n",
            "64/64 [==============================] - 0s 5ms/step - loss: 0.0164\n",
            "Epoch 63/85\n",
            "64/64 [==============================] - 0s 5ms/step - loss: 0.0160\n",
            "Epoch 64/85\n",
            "64/64 [==============================] - 0s 5ms/step - loss: 0.0159\n",
            "Epoch 65/85\n",
            "64/64 [==============================] - 0s 5ms/step - loss: 0.0158\n",
            "Epoch 66/85\n",
            "64/64 [==============================] - 0s 5ms/step - loss: 0.0157\n",
            "Epoch 67/85\n",
            "64/64 [==============================] - 0s 5ms/step - loss: 0.0158\n",
            "Epoch 68/85\n",
            "64/64 [==============================] - 0s 5ms/step - loss: 0.0162\n",
            "Epoch 69/85\n",
            "64/64 [==============================] - 0s 5ms/step - loss: 0.0159\n",
            "Epoch 70/85\n",
            "64/64 [==============================] - 0s 5ms/step - loss: 0.0157\n",
            "Epoch 71/85\n",
            "64/64 [==============================] - 0s 5ms/step - loss: 0.0153\n",
            "Epoch 72/85\n",
            "64/64 [==============================] - 0s 5ms/step - loss: 0.0163\n",
            "Epoch 73/85\n",
            "64/64 [==============================] - 0s 5ms/step - loss: 0.0148\n",
            "Epoch 74/85\n",
            "64/64 [==============================] - 0s 5ms/step - loss: 0.0151\n",
            "Epoch 75/85\n",
            "64/64 [==============================] - 0s 5ms/step - loss: 0.0157\n",
            "Epoch 76/85\n",
            "64/64 [==============================] - 0s 5ms/step - loss: 0.0159\n",
            "Epoch 77/85\n",
            "64/64 [==============================] - 0s 5ms/step - loss: 0.0157\n",
            "Epoch 78/85\n",
            "64/64 [==============================] - 0s 5ms/step - loss: 0.0149\n",
            "Epoch 79/85\n",
            "64/64 [==============================] - 0s 5ms/step - loss: 0.0157\n",
            "Epoch 80/85\n",
            "64/64 [==============================] - 0s 6ms/step - loss: 0.0157\n",
            "Epoch 81/85\n",
            "64/64 [==============================] - 0s 5ms/step - loss: 0.0147\n",
            "Epoch 82/85\n",
            "64/64 [==============================] - 0s 5ms/step - loss: 0.0144\n",
            "Epoch 83/85\n",
            "64/64 [==============================] - 0s 5ms/step - loss: 0.0151\n",
            "Epoch 84/85\n",
            "64/64 [==============================] - 0s 5ms/step - loss: 0.0143\n",
            "Epoch 85/85\n",
            "64/64 [==============================] - 0s 5ms/step - loss: 0.0143\n"
          ]
        },
        {
          "output_type": "execute_result",
          "data": {
            "text/plain": [
              "<keras.callbacks.History at 0x7fa82d537390>"
            ]
          },
          "metadata": {},
          "execution_count": 721
        }
      ]
    },
    {
      "cell_type": "code",
      "metadata": {
        "colab": {
          "base_uri": "https://localhost:8080/",
          "height": 283
        },
        "id": "vMQpRc3dZYL7",
        "outputId": "207969df-3c9c-421f-d616-8c2fbb685edf"
      },
      "source": [
        "loss_per_epoch = model.history.history['loss']\n",
        "plt.plot(range(len(loss_per_epoch)),loss_per_epoch)"
      ],
      "execution_count": null,
      "outputs": [
        {
          "output_type": "execute_result",
          "data": {
            "text/plain": [
              "[<matplotlib.lines.Line2D at 0x7fa8291c1110>]"
            ]
          },
          "metadata": {},
          "execution_count": 722
        },
        {
          "output_type": "display_data",
          "data": {
            "image/png": "[encoded data removed]",
            "text/plain": [
              "<Figure size 432x288 with 1 Axes>"
            ]
          },
          "metadata": {
            "needs_background": "light"
          }
        }
      ]
    },
    {
      "cell_type": "code",
      "metadata": {
        "colab": {
          "base_uri": "https://localhost:8080/"
        },
        "id": "cg6dBJL-ZZ6D",
        "outputId": "66ae79d5-6913-4c00-ca22-afdb79ccc67d"
      },
      "source": [
        "last_train_batch = scaled_train[-12:]\n",
        "last_train_batch = last_train_batch.reshape((1, n_input, n_features))\n",
        "model.predict(last_train_batch)"
      ],
      "execution_count": null,
      "outputs": [
        {
          "output_type": "execute_result",
          "data": {
            "text/plain": [
              "array([[0.59165525]], dtype=float32)"
            ]
          },
          "metadata": {},
          "execution_count": 723
        }
      ]
    },
    {
      "cell_type": "code",
      "metadata": {
        "colab": {
          "base_uri": "https://localhost:8080/"
        },
        "id": "lCVAGM43c2DE",
        "outputId": "d5876f2c-5603-4848-b3bb-d28e8fcff827"
      },
      "source": [
        "scaled_test[0]"
      ],
      "execution_count": null,
      "outputs": [
        {
          "output_type": "execute_result",
          "data": {
            "text/plain": [
              "array([0.60507246])"
            ]
          },
          "metadata": {},
          "execution_count": 724
        }
      ]
    },
    {
      "cell_type": "code",
      "metadata": {
        "id": "Zi7mwaM2c2Va"
      },
      "source": [
        "test_predictions = []\n",
        "\n",
        "first_eval_batch = scaled_train[-n_input:]\n",
        "current_batch = first_eval_batch.reshape((1, n_input, n_features))\n",
        "\n",
        "for i in range(len(test)):\n",
        "    \n",
        "    # get the prediction value for the first batch\n",
        "    current_pred = model.predict(current_batch)[0]\n",
        "    \n",
        "    # append the prediction into the array\n",
        "    test_predictions.append(current_pred) \n",
        "    \n",
        "    # use the prediction to update the batch and remove the first value\n",
        "    current_batch = np.append(current_batch[:,1:,:],[[current_pred]],axis=1)"
      ],
      "execution_count": null,
      "outputs": []
    },
    {
      "cell_type": "code",
      "metadata": {
        "colab": {
          "base_uri": "https://localhost:8080/"
        },
        "id": "VtMd02izeDKz",
        "outputId": "4e1ed19b-56b5-4969-db81-668c5fefa63c"
      },
      "source": [
        "test['Prediction']=test_predictions"
      ],
      "execution_count": null,
      "outputs": [
        {
          "output_type": "stream",
          "name": "stderr",
          "text": [
            "/usr/local/lib/python3.7/dist-packages/ipykernel_launcher.py:1: SettingWithCopyWarning: \n",
            "A value is trying to be set on a copy of a slice from a DataFrame.\n",
            "Try using .loc[row_indexer,col_indexer] = value instead\n",
            "\n",
            "See the caveats in the documentation: https://pandas.pydata.org/pandas-docs/stable/user_guide/indexing.html#returning-a-view-versus-a-copy\n",
            "  \"\"\"Entry point for launching an IPython kernel.\n"
          ]
        }
      ]
    },
    {
      "cell_type": "code",
      "metadata": {
        "colab": {
          "base_uri": "https://localhost:8080/",
          "height": 238
        },
        "id": "8hyCFPUZd9dK",
        "outputId": "95413270-16a8-4f3e-d21d-70cef16ab3e2"
      },
      "source": [
        "test.head()"
      ],
      "execution_count": null,
      "outputs": [
        {
          "output_type": "execute_result",
          "data": {
            "text/html": [
              "<div>\n",
              "<style scoped>\n",
              "    .dataframe tbody tr th:only-of-type {\n",
              "        vertical-align: middle;\n",
              "    }\n",
              "\n",
              "    .dataframe tbody tr th {\n",
              "        vertical-align: top;\n",
              "    }\n",
              "\n",
              "    .dataframe thead th {\n",
              "        text-align: right;\n",
              "    }\n",
              "</style>\n",
              "<table border=\"1\" class=\"dataframe\">\n",
              "  <thead>\n",
              "    <tr style=\"text-align: right;\">\n",
              "      <th></th>\n",
              "      <th>KOTA MEULABOH</th>\n",
              "      <th>Prediction</th>\n",
              "    </tr>\n",
              "    <tr>\n",
              "      <th>BULAN</th>\n",
              "      <th></th>\n",
              "      <th></th>\n",
              "    </tr>\n",
              "  </thead>\n",
              "  <tbody>\n",
              "    <tr>\n",
              "      <th>2020-05-01</th>\n",
              "      <td>1.59</td>\n",
              "      <td>[0.59165525]</td>\n",
              "    </tr>\n",
              "    <tr>\n",
              "      <th>2020-06-01</th>\n",
              "      <td>-0.28</td>\n",
              "      <td>[-0.013227038]</td>\n",
              "    </tr>\n",
              "    <tr>\n",
              "      <th>2020-07-01</th>\n",
              "      <td>-1.24</td>\n",
              "      <td>[0.6581051]</td>\n",
              "    </tr>\n",
              "    <tr>\n",
              "      <th>2020-08-01</th>\n",
              "      <td>1.59</td>\n",
              "      <td>[-0.091170944]</td>\n",
              "    </tr>\n",
              "    <tr>\n",
              "      <th>2020-09-01</th>\n",
              "      <td>0.26</td>\n",
              "      <td>[0.7409727]</td>\n",
              "    </tr>\n",
              "  </tbody>\n",
              "</table>\n",
              "</div>"
            ],
            "text/plain": [
              "            KOTA MEULABOH      Prediction\n",
              "BULAN                                    \n",
              "2020-05-01           1.59    [0.59165525]\n",
              "2020-06-01          -0.28  [-0.013227038]\n",
              "2020-07-01          -1.24     [0.6581051]\n",
              "2020-08-01           1.59  [-0.091170944]\n",
              "2020-09-01           0.26     [0.7409727]"
            ]
          },
          "metadata": {},
          "execution_count": 727
        }
      ]
    },
    {
      "cell_type": "code",
      "metadata": {
        "colab": {
          "base_uri": "https://localhost:8080/"
        },
        "id": "a0eSY5kGd_vM",
        "outputId": "56be38d9-f3ee-4e87-fedc-c652d5102184"
      },
      "source": [
        "test.dtypes"
      ],
      "execution_count": null,
      "outputs": [
        {
          "output_type": "execute_result",
          "data": {
            "text/plain": [
              "KOTA MEULABOH    float64\n",
              "Prediction        object\n",
              "dtype: object"
            ]
          },
          "metadata": {},
          "execution_count": 728
        }
      ]
    },
    {
      "cell_type": "code",
      "metadata": {
        "colab": {
          "base_uri": "https://localhost:8080/"
        },
        "id": "F4q5WGLfofi4",
        "outputId": "a6c0842b-8b07-45a3-c893-e67560a10acc"
      },
      "source": [
        "test['Prediction'] = test['Prediction'].astype(float, errors = 'raise')"
      ],
      "execution_count": null,
      "outputs": [
        {
          "output_type": "stream",
          "name": "stderr",
          "text": [
            "/usr/local/lib/python3.7/dist-packages/ipykernel_launcher.py:1: SettingWithCopyWarning: \n",
            "A value is trying to be set on a copy of a slice from a DataFrame.\n",
            "Try using .loc[row_indexer,col_indexer] = value instead\n",
            "\n",
            "See the caveats in the documentation: https://pandas.pydata.org/pandas-docs/stable/user_guide/indexing.html#returning-a-view-versus-a-copy\n",
            "  \"\"\"Entry point for launching an IPython kernel.\n"
          ]
        }
      ]
    },
    {
      "cell_type": "code",
      "metadata": {
        "colab": {
          "base_uri": "https://localhost:8080/"
        },
        "id": "pSomFkm7qKba",
        "outputId": "711f3b48-bcaf-4727-9c9d-684546f06623"
      },
      "source": [
        "test.dtypes"
      ],
      "execution_count": null,
      "outputs": [
        {
          "output_type": "execute_result",
          "data": {
            "text/plain": [
              "KOTA MEULABOH    float64\n",
              "Prediction       float64\n",
              "dtype: object"
            ]
          },
          "metadata": {},
          "execution_count": 730
        }
      ]
    },
    {
      "cell_type": "code",
      "metadata": {
        "colab": {
          "base_uri": "https://localhost:8080/",
          "height": 238
        },
        "id": "BhCQHA1ZqNac",
        "outputId": "6b8337aa-9a15-441b-dc8f-af915c1af6da"
      },
      "source": [
        "test.head()"
      ],
      "execution_count": null,
      "outputs": [
        {
          "output_type": "execute_result",
          "data": {
            "text/html": [
              "<div>\n",
              "<style scoped>\n",
              "    .dataframe tbody tr th:only-of-type {\n",
              "        vertical-align: middle;\n",
              "    }\n",
              "\n",
              "    .dataframe tbody tr th {\n",
              "        vertical-align: top;\n",
              "    }\n",
              "\n",
              "    .dataframe thead th {\n",
              "        text-align: right;\n",
              "    }\n",
              "</style>\n",
              "<table border=\"1\" class=\"dataframe\">\n",
              "  <thead>\n",
              "    <tr style=\"text-align: right;\">\n",
              "      <th></th>\n",
              "      <th>KOTA MEULABOH</th>\n",
              "      <th>Prediction</th>\n",
              "    </tr>\n",
              "    <tr>\n",
              "      <th>BULAN</th>\n",
              "      <th></th>\n",
              "      <th></th>\n",
              "    </tr>\n",
              "  </thead>\n",
              "  <tbody>\n",
              "    <tr>\n",
              "      <th>2020-05-01</th>\n",
              "      <td>1.59</td>\n",
              "      <td>0.591655</td>\n",
              "    </tr>\n",
              "    <tr>\n",
              "      <th>2020-06-01</th>\n",
              "      <td>-0.28</td>\n",
              "      <td>-0.013227</td>\n",
              "    </tr>\n",
              "    <tr>\n",
              "      <th>2020-07-01</th>\n",
              "      <td>-1.24</td>\n",
              "      <td>0.658105</td>\n",
              "    </tr>\n",
              "    <tr>\n",
              "      <th>2020-08-01</th>\n",
              "      <td>1.59</td>\n",
              "      <td>-0.091171</td>\n",
              "    </tr>\n",
              "    <tr>\n",
              "      <th>2020-09-01</th>\n",
              "      <td>0.26</td>\n",
              "      <td>0.740973</td>\n",
              "    </tr>\n",
              "  </tbody>\n",
              "</table>\n",
              "</div>"
            ],
            "text/plain": [
              "            KOTA MEULABOH  Prediction\n",
              "BULAN                                \n",
              "2020-05-01           1.59    0.591655\n",
              "2020-06-01          -0.28   -0.013227\n",
              "2020-07-01          -1.24    0.658105\n",
              "2020-08-01           1.59   -0.091171\n",
              "2020-09-01           0.26    0.740973"
            ]
          },
          "metadata": {},
          "execution_count": 731
        }
      ]
    },
    {
      "cell_type": "code",
      "metadata": {
        "colab": {
          "base_uri": "https://localhost:8080/",
          "height": 352
        },
        "id": "MeLL-oVpqOps",
        "outputId": "1d3892da-0e8e-4a3f-df37-aa4e67ca7c3b"
      },
      "source": [
        "test.plot(figsize=(14,5))"
      ],
      "execution_count": null,
      "outputs": [
        {
          "output_type": "execute_result",
          "data": {
            "text/plain": [
              "<matplotlib.axes._subplots.AxesSubplot at 0x7fa8290f4990>"
            ]
          },
          "metadata": {},
          "execution_count": 732
        },
        {
          "output_type": "display_data",
          "data": {
            "image/png": "[encoded data removed]",
            "text/plain": [
              "<Figure size 1008x360 with 1 Axes>"
            ]
          },
          "metadata": {
            "needs_background": "light"
          }
        }
      ]
    },
    {
      "cell_type": "code",
      "metadata": {
        "colab": {
          "base_uri": "https://localhost:8080/"
        },
        "id": "nqiDXaiIqXtj",
        "outputId": "62b77130-7c66-49b2-b466-f7ac1bbaaaca"
      },
      "source": [
        "from sklearn.metrics import mean_squared_error\n",
        "from math import sqrt\n",
        "rmse=mean_squared_error(test['KOTA MEULABOH'],test['Prediction'])\n",
        "print(rmse)"
      ],
      "execution_count": null,
      "outputs": [
        {
          "output_type": "stream",
          "name": "stdout",
          "text": [
            "620.8211331220764\n"
          ]
        }
      ]
    },
    {
      "cell_type": "code",
      "metadata": {
        "id": "FpjhxCyMqbJn"
      },
      "source": [
        ""
      ],
      "execution_count": null,
      "outputs": []
    }
  ]
}