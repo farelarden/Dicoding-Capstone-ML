{
  "nbformat": 4,
  "nbformat_minor": 0,
  "metadata": {
    "colab": {
      "name": "Nearest",
      "provenance": [],
      "collapsed_sections": []
    },
    "kernelspec": {
      "name": "python3",
      "display_name": "Python 3"
    },
    "language_info": {
      "name": "python"
    }
  },
  "cells": [
    {
      "cell_type": "code",
      "metadata": {
        "id": "_dENr6HA6u9Q"
      },
      "source": [
        "import os\n",
        "import pandas as pd\n",
        "\n",
        "import warnings; \n",
        "warnings.simplefilter('ignore')"
      ],
      "execution_count": 25,
      "outputs": []
    },
    {
      "cell_type": "code",
      "metadata": {
        "colab": {
          "base_uri": "https://localhost:8080/"
        },
        "id": "qi34cuFeQ9gG",
        "outputId": "1c7f7b82-f455-4060-9df1-f60ad9188c26"
      },
      "source": [
        "!git clone https://github.com/farelarden/Dicoding-Capstone-ML.git"
      ],
      "execution_count": 26,
      "outputs": [
        {
          "output_type": "stream",
          "name": "stdout",
          "text": [
            "fatal: destination path 'Dicoding-Capstone-ML' already exists and is not an empty directory.\n"
          ]
        }
      ]
    },
    {
      "cell_type": "code",
      "metadata": {
        "id": "67nYkJUqRMDZ"
      },
      "source": [
        "dataset_1 = pd.read_csv('/content/Dicoding-Capstone-ML/Dataset/Latitude & Longitude Dataset/longitude, latitude.csv')\n",
        "dataset_2 = pd.read_csv('/content/Dicoding-Capstone-ML/Dataset/Latitude & Longitude Dataset/longitude, latitude.csv')"
      ],
      "execution_count": 27,
      "outputs": []
    },
    {
      "cell_type": "code",
      "source": [
        "dataset_1.tail()"
      ],
      "metadata": {
        "colab": {
          "base_uri": "https://localhost:8080/",
          "height": 206
        },
        "id": "H1QIyHJ1F0U3",
        "outputId": "b2613236-5ace-4514-c93c-ca8ffd486d1a"
      },
      "execution_count": 28,
      "outputs": [
        {
          "output_type": "execute_result",
          "data": {
            "text/html": [
              "<div>\n",
              "<style scoped>\n",
              "    .dataframe tbody tr th:only-of-type {\n",
              "        vertical-align: middle;\n",
              "    }\n",
              "\n",
              "    .dataframe tbody tr th {\n",
              "        vertical-align: top;\n",
              "    }\n",
              "\n",
              "    .dataframe thead th {\n",
              "        text-align: right;\n",
              "    }\n",
              "</style>\n",
              "<table border=\"1\" class=\"dataframe\">\n",
              "  <thead>\n",
              "    <tr style=\"text-align: right;\">\n",
              "      <th></th>\n",
              "      <th>Kota</th>\n",
              "      <th>Latitude</th>\n",
              "      <th>Longitude</th>\n",
              "    </tr>\n",
              "  </thead>\n",
              "  <tbody>\n",
              "    <tr>\n",
              "      <th>85</th>\n",
              "      <td>MANOKWARI</td>\n",
              "      <td>-0.856815</td>\n",
              "      <td>134.062597</td>\n",
              "    </tr>\n",
              "    <tr>\n",
              "      <th>86</th>\n",
              "      <td>KOTA SORONG</td>\n",
              "      <td>-0.658133</td>\n",
              "      <td>131.260537</td>\n",
              "    </tr>\n",
              "    <tr>\n",
              "      <th>87</th>\n",
              "      <td>MERAUKE</td>\n",
              "      <td>-8.456140</td>\n",
              "      <td>140.401085</td>\n",
              "    </tr>\n",
              "    <tr>\n",
              "      <th>88</th>\n",
              "      <td>TIMIKA</td>\n",
              "      <td>-4.545373</td>\n",
              "      <td>136.884106</td>\n",
              "    </tr>\n",
              "    <tr>\n",
              "      <th>89</th>\n",
              "      <td>KOTA JAYAPURA</td>\n",
              "      <td>-2.561784</td>\n",
              "      <td>140.674532</td>\n",
              "    </tr>\n",
              "  </tbody>\n",
              "</table>\n",
              "</div>"
            ],
            "text/plain": [
              "             Kota  Latitude   Longitude\n",
              "85      MANOKWARI -0.856815  134.062597\n",
              "86    KOTA SORONG -0.658133  131.260537\n",
              "87        MERAUKE -8.456140  140.401085\n",
              "88         TIMIKA -4.545373  136.884106\n",
              "89  KOTA JAYAPURA -2.561784  140.674532"
            ]
          },
          "metadata": {},
          "execution_count": 28
        }
      ]
    },
    {
      "cell_type": "code",
      "metadata": {
        "colab": {
          "base_uri": "https://localhost:8080/"
        },
        "id": "z0S1Dzx2UiEB",
        "outputId": "0a8b79f4-f2ba-4855-bf57-bf76988a4dcf"
      },
      "source": [
        "# Renaming the column names \n",
        "dataset_1=dataset_1.rename(columns = {'Latitude':'lat','Longitude':'lon'})\n",
        "dataset_2=dataset_2.rename(columns = {'Latitude':'lat','Longitude':'lon'})\n",
        "# To make sure that there are no null values and All are either integers/ Float values \n",
        "dataset_1.info() \n",
        "print('\\n XXXXXXXXXXXXXXXXXXXXXXX\\n')\n",
        "dataset_2.info()"
      ],
      "execution_count": 29,
      "outputs": [
        {
          "output_type": "stream",
          "name": "stdout",
          "text": [
            "<class 'pandas.core.frame.DataFrame'>\n",
            "RangeIndex: 90 entries, 0 to 89\n",
            "Data columns (total 3 columns):\n",
            " #   Column  Non-Null Count  Dtype  \n",
            "---  ------  --------------  -----  \n",
            " 0   Kota    90 non-null     object \n",
            " 1   lat     90 non-null     float64\n",
            " 2   lon     90 non-null     float64\n",
            "dtypes: float64(2), object(1)\n",
            "memory usage: 2.2+ KB\n",
            "\n",
            " XXXXXXXXXXXXXXXXXXXXXXX\n",
            "\n",
            "<class 'pandas.core.frame.DataFrame'>\n",
            "RangeIndex: 90 entries, 0 to 89\n",
            "Data columns (total 3 columns):\n",
            " #   Column  Non-Null Count  Dtype  \n",
            "---  ------  --------------  -----  \n",
            " 0   Kota    90 non-null     object \n",
            " 1   lat     90 non-null     float64\n",
            " 2   lon     90 non-null     float64\n",
            "dtypes: float64(2), object(1)\n",
            "memory usage: 2.2+ KB\n"
          ]
        }
      ]
    },
    {
      "cell_type": "code",
      "metadata": {
        "id": "2MXJZlgfHK38"
      },
      "source": [
        "from math import radians, cos, sin, asin, sqrt\n",
        "def dist(lat1, long1, lat2, long2):\n",
        "    \"\"\"\n",
        "    Calculate the great circle distance between two points \n",
        "    on the earth (specified in decimal degrees)\n",
        "    \"\"\"\n",
        "    # convert decimal degrees to radians \n",
        "    lat1, long1, lat2, long2 = map(radians, [lat1, long1, lat2, long2])\n",
        "    # haversine formula \n",
        "    dlon = long2 - long1 \n",
        "    dlat = lat2 - lat1 \n",
        "    a = sin(dlat/2)**2 + cos(lat1) * cos(lat2) * sin(dlon/2)**2\n",
        "    c = 2 * asin(sqrt(a)) \n",
        "    # Radius of earth in kilometers is 6371\n",
        "    km = 6371* c\n",
        "    return km"
      ],
      "execution_count": 30,
      "outputs": []
    },
    {
      "cell_type": "code",
      "metadata": {
        "id": "7luY0zNaHbVA"
      },
      "source": [
        "def find_nearest(lat, long):\n",
        "    distances = dataset_1.apply(\n",
        "        lambda row: dist(lat, long, row['lat'], row['lon']), \n",
        "        axis=1)\n",
        "    return dataset_1.loc[distances.idxmin(), 'Kota']"
      ],
      "execution_count": 31,
      "outputs": []
    },
    {
      "cell_type": "code",
      "metadata": {
        "colab": {
          "base_uri": "https://localhost:8080/"
        },
        "id": "za2umdhxMMzo",
        "outputId": "00a3b126-f4e3-4693-f234-c1bedb739fce"
      },
      "source": [
        "dataset_2.dtypes"
      ],
      "execution_count": 32,
      "outputs": [
        {
          "output_type": "execute_result",
          "data": {
            "text/plain": [
              "Kota     object\n",
              "lat     float64\n",
              "lon     float64\n",
              "dtype: object"
            ]
          },
          "metadata": {},
          "execution_count": 32
        }
      ]
    },
    {
      "cell_type": "code",
      "metadata": {
        "id": "JB-TjyauHUli"
      },
      "source": [
        "Kota_Pilihan = \"KOTA MEULABOH\""
      ],
      "execution_count": 33,
      "outputs": []
    },
    {
      "cell_type": "code",
      "metadata": {
        "id": "TsbnMKO1HpD6"
      },
      "source": [
        "dataset_2_1 = dataset_2[dataset_2.Kota != Kota_Pilihan]"
      ],
      "execution_count": 34,
      "outputs": []
    },
    {
      "cell_type": "code",
      "metadata": {
        "id": "BhoZ4_3rMdQr",
        "colab": {
          "base_uri": "https://localhost:8080/",
          "height": 423
        },
        "outputId": "856db384-3507-4aaf-a7ac-2c9a8a1a348c"
      },
      "source": [
        "dataset_2_1"
      ],
      "execution_count": 35,
      "outputs": [
        {
          "output_type": "execute_result",
          "data": {
            "text/html": [
              "<div>\n",
              "<style scoped>\n",
              "    .dataframe tbody tr th:only-of-type {\n",
              "        vertical-align: middle;\n",
              "    }\n",
              "\n",
              "    .dataframe tbody tr th {\n",
              "        vertical-align: top;\n",
              "    }\n",
              "\n",
              "    .dataframe thead th {\n",
              "        text-align: right;\n",
              "    }\n",
              "</style>\n",
              "<table border=\"1\" class=\"dataframe\">\n",
              "  <thead>\n",
              "    <tr style=\"text-align: right;\">\n",
              "      <th></th>\n",
              "      <th>Kota</th>\n",
              "      <th>lat</th>\n",
              "      <th>lon</th>\n",
              "    </tr>\n",
              "  </thead>\n",
              "  <tbody>\n",
              "    <tr>\n",
              "      <th>1</th>\n",
              "      <td>KOTA BANDA ACEH</td>\n",
              "      <td>5.589495</td>\n",
              "      <td>95.317255</td>\n",
              "    </tr>\n",
              "    <tr>\n",
              "      <th>2</th>\n",
              "      <td>KOTA LHOKSEUMAWE</td>\n",
              "      <td>5.216476</td>\n",
              "      <td>97.146540</td>\n",
              "    </tr>\n",
              "    <tr>\n",
              "      <th>3</th>\n",
              "      <td>KOTA SIBOLGA</td>\n",
              "      <td>1.750085</td>\n",
              "      <td>98.782589</td>\n",
              "    </tr>\n",
              "    <tr>\n",
              "      <th>4</th>\n",
              "      <td>KOTA PEMATANG SIANTAR</td>\n",
              "      <td>3.061371</td>\n",
              "      <td>99.061489</td>\n",
              "    </tr>\n",
              "    <tr>\n",
              "      <th>5</th>\n",
              "      <td>KOTA MEDAN</td>\n",
              "      <td>3.796303</td>\n",
              "      <td>98.690139</td>\n",
              "    </tr>\n",
              "    <tr>\n",
              "      <th>...</th>\n",
              "      <td>...</td>\n",
              "      <td>...</td>\n",
              "      <td>...</td>\n",
              "    </tr>\n",
              "    <tr>\n",
              "      <th>85</th>\n",
              "      <td>MANOKWARI</td>\n",
              "      <td>-0.856815</td>\n",
              "      <td>134.062597</td>\n",
              "    </tr>\n",
              "    <tr>\n",
              "      <th>86</th>\n",
              "      <td>KOTA SORONG</td>\n",
              "      <td>-0.658133</td>\n",
              "      <td>131.260537</td>\n",
              "    </tr>\n",
              "    <tr>\n",
              "      <th>87</th>\n",
              "      <td>MERAUKE</td>\n",
              "      <td>-8.456140</td>\n",
              "      <td>140.401085</td>\n",
              "    </tr>\n",
              "    <tr>\n",
              "      <th>88</th>\n",
              "      <td>TIMIKA</td>\n",
              "      <td>-4.545373</td>\n",
              "      <td>136.884106</td>\n",
              "    </tr>\n",
              "    <tr>\n",
              "      <th>89</th>\n",
              "      <td>KOTA JAYAPURA</td>\n",
              "      <td>-2.561784</td>\n",
              "      <td>140.674532</td>\n",
              "    </tr>\n",
              "  </tbody>\n",
              "</table>\n",
              "<p>89 rows × 3 columns</p>\n",
              "</div>"
            ],
            "text/plain": [
              "                     Kota       lat         lon\n",
              "1         KOTA BANDA ACEH  5.589495   95.317255\n",
              "2        KOTA LHOKSEUMAWE  5.216476   97.146540\n",
              "3            KOTA SIBOLGA  1.750085   98.782589\n",
              "4   KOTA PEMATANG SIANTAR  3.061371   99.061489\n",
              "5              KOTA MEDAN  3.796303   98.690139\n",
              "..                    ...       ...         ...\n",
              "85              MANOKWARI -0.856815  134.062597\n",
              "86            KOTA SORONG -0.658133  131.260537\n",
              "87                MERAUKE -8.456140  140.401085\n",
              "88                 TIMIKA -4.545373  136.884106\n",
              "89          KOTA JAYAPURA -2.561784  140.674532\n",
              "\n",
              "[89 rows x 3 columns]"
            ]
          },
          "metadata": {},
          "execution_count": 35
        }
      ]
    },
    {
      "cell_type": "code",
      "metadata": {
        "id": "KIHWpPKaM8SE"
      },
      "source": [
        "dataset_2_1_1 = dataset_2.set_index(\"Kota\")\n",
        "dataset_2_1_2 = dataset_2_1_1.loc[[\"KOTA BANDA ACEH\"]]"
      ],
      "execution_count": 36,
      "outputs": []
    },
    {
      "cell_type": "code",
      "metadata": {
        "colab": {
          "base_uri": "https://localhost:8080/",
          "height": 112
        },
        "id": "mc9Ve45qNQ7B",
        "outputId": "92edb11e-03aa-4237-a2d3-a5a669aa206d"
      },
      "source": [
        "dataset_2_1_2"
      ],
      "execution_count": 37,
      "outputs": [
        {
          "output_type": "execute_result",
          "data": {
            "text/html": [
              "<div>\n",
              "<style scoped>\n",
              "    .dataframe tbody tr th:only-of-type {\n",
              "        vertical-align: middle;\n",
              "    }\n",
              "\n",
              "    .dataframe tbody tr th {\n",
              "        vertical-align: top;\n",
              "    }\n",
              "\n",
              "    .dataframe thead th {\n",
              "        text-align: right;\n",
              "    }\n",
              "</style>\n",
              "<table border=\"1\" class=\"dataframe\">\n",
              "  <thead>\n",
              "    <tr style=\"text-align: right;\">\n",
              "      <th></th>\n",
              "      <th>lat</th>\n",
              "      <th>lon</th>\n",
              "    </tr>\n",
              "    <tr>\n",
              "      <th>Kota</th>\n",
              "      <th></th>\n",
              "      <th></th>\n",
              "    </tr>\n",
              "  </thead>\n",
              "  <tbody>\n",
              "    <tr>\n",
              "      <th>KOTA BANDA ACEH</th>\n",
              "      <td>5.589495</td>\n",
              "      <td>95.317255</td>\n",
              "    </tr>\n",
              "  </tbody>\n",
              "</table>\n",
              "</div>"
            ],
            "text/plain": [
              "                      lat        lon\n",
              "Kota                                \n",
              "KOTA BANDA ACEH  5.589495  95.317255"
            ]
          },
          "metadata": {},
          "execution_count": 37
        }
      ]
    },
    {
      "cell_type": "code",
      "metadata": {
        "colab": {
          "base_uri": "https://localhost:8080/"
        },
        "id": "LqZdDBTnN1z4",
        "outputId": "adff13ca-e241-4a70-d5e6-baf41ac93c40"
      },
      "source": [
        "dataset_2_1_2['lat']"
      ],
      "execution_count": 38,
      "outputs": [
        {
          "output_type": "execute_result",
          "data": {
            "text/plain": [
              "Kota\n",
              "KOTA BANDA ACEH    5.589495\n",
              "Name: lat, dtype: float64"
            ]
          },
          "metadata": {},
          "execution_count": 38
        }
      ]
    },
    {
      "cell_type": "code",
      "metadata": {
        "id": "51Dfb7FIM-RS"
      },
      "source": [
        "dataset_2_1 = dataset_2_1.to_dict('records')"
      ],
      "execution_count": 39,
      "outputs": []
    },
    {
      "cell_type": "code",
      "metadata": {
        "colab": {
          "base_uri": "https://localhost:8080/"
        },
        "id": "XLsB3OsMM_sB",
        "outputId": "d790e452-0394-461f-cc67-c6fea6b87157"
      },
      "source": [
        "dataset_2_1"
      ],
      "execution_count": 40,
      "outputs": [
        {
          "output_type": "execute_result",
          "data": {
            "text/plain": [
              "[{'Kota': 'KOTA BANDA ACEH', 'lat': 5.589494799, 'lon': 95.31725461},\n",
              " {'Kota': 'KOTA LHOKSEUMAWE', 'lat': 5.216476107, 'lon': 97.14653982},\n",
              " {'Kota': 'KOTA SIBOLGA', 'lat': 1.750085105, 'lon': 98.78258894},\n",
              " {'Kota': 'KOTA PEMATANG SIANTAR',\n",
              "  'lat': 3.0613710339999995,\n",
              "  'lon': 99.06148874},\n",
              " {'Kota': 'KOTA MEDAN', 'lat': 3.7963030460000002, 'lon': 98.69013907},\n",
              " {'Kota': 'KOTA PADANGSIDIMPUAN', 'lat': 1.529860721, 'lon': 99.27096445},\n",
              " {'Kota': 'KOTA GUNUNGSITOLI', 'lat': 1.309821852, 'lon': 97.61046151},\n",
              " {'Kota': 'KOTA PADANG',\n",
              "  'lat': -0.6427982879999999,\n",
              "  'lon': 100.40737929999999},\n",
              " {'Kota': 'KOTA BUKITTINGGI', 'lat': -0.290846741, 'lon': 100.3831793},\n",
              " {'Kota': 'TEMBILAHAN', 'lat': -0.294146713, 'lon': 103.14673379999999},\n",
              " {'Kota': 'KOTA PEKANBARU', 'lat': 0.806030633, 'lon': 101.46885879999999},\n",
              " {'Kota': 'KOTA DUMAI', 'lat': 1.74818782, 'lon': 101.3990186},\n",
              " {'Kota': 'BUNGO', 'lat': -1.396967914, 'lon': 101.82014240000001},\n",
              " {'Kota': 'KOTA JAMBI', 'lat': -1.5046700480000001, 'lon': 103.601912},\n",
              " {'Kota': 'KOTA PALEMBANG', 'lat': -2.675813126, 'lon': 104.7300199},\n",
              " {'Kota': 'KOTA LUBUKLINGGAU', 'lat': -3.16282751, 'lon': 102.89368780000001},\n",
              " {'Kota': 'KOTA BENGKULU', 'lat': -3.650244375, 'lon': 102.263284},\n",
              " {'Kota': 'KOTA BANDAR LAMPUNG',\n",
              "  'lat': -5.374232139,\n",
              "  'lon': 105.25969189999999},\n",
              " {'Kota': 'KOTA METRO', 'lat': -5.090531007, 'lon': 105.3109013},\n",
              " {'Kota': 'TANJUNG PANDAN', 'lat': -2.676088446, 'lon': 107.6508759},\n",
              " {'Kota': 'KOTA PANGKAL PINANG', 'lat': -2.09761224, 'lon': 106.1320971},\n",
              " {'Kota': 'KOTA BATAM', 'lat': 1.129029297, 'lon': 104.05052740000001},\n",
              " {'Kota': 'KOTA TANJUNG PINANG',\n",
              "  'lat': 0.9191215009999999,\n",
              "  'lon': 104.4646839},\n",
              " {'Kota': 'DKI JAKARTA', 'lat': -6.20720205, 'lon': 106.8391197},\n",
              " {'Kota': 'KOTA BOGOR', 'lat': -6.588708607999999, 'lon': 106.8042488},\n",
              " {'Kota': 'KOTA SUKABUMI',\n",
              "  'lat': -6.9271290389999995,\n",
              "  'lon': 106.92760890000001},\n",
              " {'Kota': 'KOTA BANDUNG',\n",
              "  'lat': -6.915714196000001,\n",
              "  'lon': 107.61156909999998},\n",
              " {'Kota': 'KOTA CIREBON', 'lat': -6.731182492, 'lon': 108.55402240000002},\n",
              " {'Kota': 'KOTA BEKASI', 'lat': -6.239924672000001, 'lon': 106.97012420000001},\n",
              " {'Kota': 'KOTA DEPOK', 'lat': -6.402173648, 'lon': 106.7941054},\n",
              " {'Kota': 'KOTA TASIKMALAYA',\n",
              "  'lat': -7.350102122999999,\n",
              "  'lon': 108.21798729999999},\n",
              " {'Kota': 'CILACAP', 'lat': -7.697156474, 'lon': 109.02339609999999},\n",
              " {'Kota': 'PURWOKERTO', 'lat': -7.424827456, 'lon': 109.2395727},\n",
              " {'Kota': 'KUDUS', 'lat': -6.787950607000001, 'lon': 110.83727879999999},\n",
              " {'Kota': 'KOTA SURAKARTA', 'lat': -7.544191398, 'lon': 110.8247883},\n",
              " {'Kota': 'KOTA SEMARANG', 'lat': -7.00427942, 'lon': 110.45036470000001},\n",
              " {'Kota': 'KOTA TEGAL', 'lat': -6.87933268, 'lon': 109.1258572},\n",
              " {'Kota': 'KOTA YOGYAKARTA', 'lat': -7.794575257999999, 'lon': 110.3717543},\n",
              " {'Kota': 'JEMBER', 'lat': -8.17109275, 'lon': 113.686869},\n",
              " {'Kota': 'BANYUWANGI', 'lat': -8.220491351, 'lon': 114.36752340000001},\n",
              " {'Kota': 'SUMENEP', 'lat': -7.004558417999999, 'lon': 113.8577605},\n",
              " {'Kota': 'KOTA KEDIRI', 'lat': -7.848198172000001, 'lon': 112.01549809999999},\n",
              " {'Kota': 'KOTA MALANG', 'lat': -7.892066015, 'lon': 112.6310936},\n",
              " {'Kota': 'KOTA PROBOLINGGO', 'lat': -7.776201714, 'lon': 113.20751259999999},\n",
              " {'Kota': 'KOTA MADIUN', 'lat': -7.630764025, 'lon': 111.52736409999999},\n",
              " {'Kota': 'KOTA SURABAYA', 'lat': -7.250071461, 'lon': 112.7511331},\n",
              " {'Kota': 'KOTA TANGERANG', 'lat': -6.169650005, 'lon': 106.64109950000001},\n",
              " {'Kota': 'KOTA CILEGON', 'lat': -6.015898609, 'lon': 106.05},\n",
              " {'Kota': 'KOTA SERANG', 'lat': -6.116605667000001, 'lon': 106.15313429999999},\n",
              " {'Kota': 'SINGARAJA', 'lat': -8.114854737, 'lon': 115.0905996},\n",
              " {'Kota': 'KOTA DENPASAR', 'lat': -8.671303623, 'lon': 115.21447240000002},\n",
              " {'Kota': 'KOTA MATARAM', 'lat': -8.555981675, 'lon': 116.0958507},\n",
              " {'Kota': 'KOTA BIMA', 'lat': -8.408594384, 'lon': 118.62310749999999},\n",
              " {'Kota': 'WAINGAPU', 'lat': -9.695939187999999, 'lon': 120.18263519999999},\n",
              " {'Kota': 'MAUMERE', 'lat': -8.595372587, 'lon': 122.21696399999999},\n",
              " {'Kota': 'KOTA KUPANG', 'lat': -10.08700218, 'lon': 123.605448},\n",
              " {'Kota': 'SINTANG', 'lat': 0.06396373, 'lon': 111.4879443},\n",
              " {'Kota': 'KOTA PONTIANAK', 'lat': -0.026116601, 'lon': 109.34110020000001},\n",
              " {'Kota': 'KOTA SINGKAWANG', 'lat': 1.006141639, 'lon': 109.00147759999999},\n",
              " {'Kota': 'SAMPIT', 'lat': -2.538779349, 'lon': 112.95881499999999},\n",
              " {'Kota': 'KOTA PALANGKA RAYA', 'lat': -2.216391738, 'lon': 113.914024},\n",
              " {'Kota': 'KOTA BARU', 'lat': -2.131013957, 'lon': 115.8968508},\n",
              " {'Kota': 'TANJUNG', 'lat': -2.0115356419999997, 'lon': 115.35916529999999},\n",
              " {'Kota': 'KOTA BANJARMASIN', 'lat': -3.068380339, 'lon': 114.61812179999998},\n",
              " {'Kota': 'KOTA BALIKPAPAN', 'lat': -1.2360432940000001, 'lon': 116.8496416},\n",
              " {'Kota': 'KOTA SAMARINDA', 'lat': -0.493205616, 'lon': 117.148738},\n",
              " {'Kota': 'TANJUNG SELOR', 'lat': 2.8449122860000005, 'lon': 117.3638432},\n",
              " {'Kota': 'KOTA TARAKAN', 'lat': 3.327736424, 'lon': 117.5790803},\n",
              " {'Kota': 'KOTA MANADO', 'lat': 1.473546425, 'lon': 124.8449085},\n",
              " {'Kota': 'KOTA KOTAMOBAGU', 'lat': 0.7285617809999999, 'lon': 124.3122969},\n",
              " {'Kota': 'LUWUK', 'lat': -0.938055616, 'lon': 122.7928868},\n",
              " {'Kota': 'KOTA PALU', 'lat': -0.8994110190000001, 'lon': 119.8772899},\n",
              " {'Kota': 'BULUKUMBA', 'lat': -5.420442112999999, 'lon': 120.24943209999999},\n",
              " {'Kota': 'WATAMPONE', 'lat': -4.537873451, 'lon': 120.32491110000001},\n",
              " {'Kota': 'KOTA MAKASSAR', 'lat': -5.026911628, 'lon': 119.44227790000001},\n",
              " {'Kota': 'KOTA PARE-PARE', 'lat': -3.926056741, 'lon': 119.6170831},\n",
              " {'Kota': 'KOTA PALOPO', 'lat': -2.9717850610000003, 'lon': 120.18763},\n",
              " {'Kota': 'KOTA KENDARI', 'lat': -3.999088811, 'lon': 122.51506940000002},\n",
              " {'Kota': 'KOTA BUA-BAU', 'lat': -5.50639436, 'lon': 122.59681509999999},\n",
              " {'Kota': 'KOTA GORONTALO', 'lat': 0.594747493, 'lon': 123.05711229999999},\n",
              " {'Kota': 'MAMUJU', 'lat': -2.489971738, 'lon': 119.3335784},\n",
              " {'Kota': 'KOTA AMBON', 'lat': -3.560521542, 'lon': 128.1633291},\n",
              " {'Kota': 'KOTA TUAL', 'lat': -5.335365671, 'lon': 132.6957739},\n",
              " {'Kota': 'KOTA TERNATE', 'lat': 0.798636132, 'lon': 127.3602611},\n",
              " {'Kota': 'MANOKWARI', 'lat': -0.85681509, 'lon': 134.0625965},\n",
              " {'Kota': 'KOTA SORONG', 'lat': -0.658133486, 'lon': 131.2605366},\n",
              " {'Kota': 'MERAUKE', 'lat': -8.456139719, 'lon': 140.4010854},\n",
              " {'Kota': 'TIMIKA', 'lat': -4.54537316, 'lon': 136.8841064},\n",
              " {'Kota': 'KOTA JAYAPURA', 'lat': -2.561783651, 'lon': 140.6745321}]"
            ]
          },
          "metadata": {},
          "execution_count": 40
        }
      ]
    },
    {
      "cell_type": "code",
      "source": [
        "type(dataset_2_1)"
      ],
      "metadata": {
        "colab": {
          "base_uri": "https://localhost:8080/"
        },
        "id": "1_vI5-YPPX5_",
        "outputId": "f4d07667-36fb-4d69-b33e-319da5ebbcde"
      },
      "execution_count": 41,
      "outputs": [
        {
          "output_type": "execute_result",
          "data": {
            "text/plain": [
              "list"
            ]
          },
          "metadata": {},
          "execution_count": 41
        }
      ]
    },
    {
      "cell_type": "code",
      "metadata": {
        "colab": {
          "base_uri": "https://localhost:8080/"
        },
        "id": "DE5j8pZFLxLI",
        "outputId": "2150d75a-6cce-4dd2-9216-6283dfa9a96c"
      },
      "source": [
        "distances = []\n",
        "\n",
        "def distance(lat1, lon1, lat2, lon2):\n",
        "    p = 0.017453292519943295\n",
        "    hav = 0.5 - cos((lat2-lat1)*p)/2 + cos(lat1*p)*cos(lat2*p) * (1-cos((lon2-lon1)*p)) / 2\n",
        "    return 12742 * asin(sqrt(hav))\n",
        "\n",
        "def closest(data, v):\n",
        "    # return second_smallest(data, key=lambda p: distance(v['lat'],v['lon'],p['lat'],p['lon']))\n",
        "    # second_smallest(distances)\n",
        "    return min(data, key=lambda p: distance(v['lat'],v['lon'],p['lat'],p['lon']))\n",
        "\n",
        "v = {'lat': dataset_2_1_2['lat'], 'lon': dataset_2_1_2['lon']}\n",
        "closest_1 = closest(dataset_2_1, v)\n",
        "print(closest_1)"
      ],
      "execution_count": 42,
      "outputs": [
        {
          "output_type": "stream",
          "name": "stdout",
          "text": [
            "{'Kota': 'KOTA BANDA ACEH', 'lat': 5.589494799, 'lon': 95.31725461}\n"
          ]
        }
      ]
    },
    {
      "cell_type": "code",
      "source": [
        "First_city = closest_1.get('Kota')"
      ],
      "metadata": {
        "id": "GTXELrV0PEVW"
      },
      "execution_count": 43,
      "outputs": []
    },
    {
      "cell_type": "code",
      "source": [
        "for i in range(len(dataset_2_1)):\n",
        "    if dataset_2_1[i]['Kota'] == First_city:\n",
        "        del dataset_2_1[i]\n",
        "        break"
      ],
      "metadata": {
        "id": "9zGXD6laeBA2"
      },
      "execution_count": 44,
      "outputs": []
    },
    {
      "cell_type": "code",
      "source": [
        "distances = []\n",
        "\n",
        "def distance(lat1, lon1, lat2, lon2):\n",
        "    p = 0.017453292519943295\n",
        "    hav = 0.5 - cos((lat2-lat1)*p)/2 + cos(lat1*p)*cos(lat2*p) * (1-cos((lon2-lon1)*p)) / 2\n",
        "    return 12742 * asin(sqrt(hav))\n",
        "\n",
        "def closest(data, v):\n",
        "    # return second_smallest(data, key=lambda p: distance(v['lat'],v['lon'],p['lat'],p['lon']))\n",
        "    # second_smallest(distances)\n",
        "    return min(data, key=lambda p: distance(v['lat'],v['lon'],p['lat'],p['lon']))\n",
        "\n",
        "v = {'lat': dataset_2_1_2['lat'], 'lon': dataset_2_1_2['lon']}\n",
        "closest_2 = closest(dataset_2_1, v)\n",
        "print(closest_2)"
      ],
      "metadata": {
        "id": "H_tF_UupO0TG",
        "colab": {
          "base_uri": "https://localhost:8080/"
        },
        "outputId": "7163632e-85fc-4627-d3c6-98c91fa158ed"
      },
      "execution_count": 45,
      "outputs": [
        {
          "output_type": "stream",
          "name": "stdout",
          "text": [
            "{'Kota': 'KOTA LHOKSEUMAWE', 'lat': 5.216476107, 'lon': 97.14653982}\n"
          ]
        }
      ]
    },
    {
      "cell_type": "code",
      "source": [
        "Second_city = closest_2.get('Kota')"
      ],
      "metadata": {
        "id": "a6KshD01ePkg"
      },
      "execution_count": 46,
      "outputs": []
    },
    {
      "cell_type": "code",
      "source": [
        ""
      ],
      "metadata": {
        "id": "t3QrAxaDeRrZ"
      },
      "execution_count": 46,
      "outputs": []
    }
  ]
}